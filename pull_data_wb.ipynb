{
 "cells": [
  {
   "cell_type": "markdown",
   "metadata": {},
   "source": [
    "# Pull data from the WB data API and stores it into a local csv file for further processing"
   ]
  },
  {
   "cell_type": "code",
   "execution_count": 1,
   "metadata": {
    "collapsed": false
   },
   "outputs": [],
   "source": [
    "import os\n",
    "import pandas as pd\n",
    "import numpy as np\n",
    "from pandas_datareader import wb\n",
    "%load_ext autoreload\n",
    "%autoreload 2"
   ]
  },
  {
   "cell_type": "code",
   "execution_count": 2,
   "metadata": {
    "collapsed": false
   },
   "outputs": [],
   "source": [
    "cwd = os.getcwd()\n",
    "os.chdir(\"../git/wb_api_wrapper/\")\n",
    "from  wb_api_wrapper import * #Import functions to obtain World Bank data from the web and code to rename country names\n",
    "os.chdir(cwd) #Get back to initial working directory"
   ]
  },
  {
   "cell_type": "markdown",
   "metadata": {},
   "source": [
    "## Now we start pulling WB data off the internet using the web api wrapper"
   ]
  },
  {
   "cell_type": "markdown",
   "metadata": {},
   "source": [
    "## Look for the income share of the  bottom quintile"
   ]
  },
  {
   "cell_type": "code",
   "execution_count": 3,
   "metadata": {
    "collapsed": false,
    "scrolled": true
   },
   "outputs": [
    {
     "name": "stderr",
     "output_type": "stream",
     "text": [
      "/Users/steffen/anaconda/lib/python3.5/site-packages/pandas_datareader/wb.py:258: FutureWarning: sort(columns=....) is deprecated, use sort_values(by=.....)\n",
      "  data = data.sort(columns='id')\n"
     ]
    },
    {
     "data": {
      "text/html": [
       "<div>\n",
       "<table border=\"1\" class=\"dataframe\">\n",
       "  <thead>\n",
       "    <tr style=\"text-align: right;\">\n",
       "      <th></th>\n",
       "      <th>id</th>\n",
       "      <th>name</th>\n",
       "      <th>source</th>\n",
       "    </tr>\n",
       "  </thead>\n",
       "  <tbody>\n",
       "    <tr>\n",
       "      <th>137</th>\n",
       "      <td>3.0.IncShr.q1</td>\n",
       "      <td>Income Share of First Quintile</td>\n",
       "      <td>LAC Equity Lab</td>\n",
       "    </tr>\n",
       "    <tr>\n",
       "      <th>138</th>\n",
       "      <td>3.0.IncShr.q2</td>\n",
       "      <td>Income Share of Second Quintile</td>\n",
       "      <td>LAC Equity Lab</td>\n",
       "    </tr>\n",
       "    <tr>\n",
       "      <th>139</th>\n",
       "      <td>3.0.IncShr.q3</td>\n",
       "      <td>Income Share of Third Quintile</td>\n",
       "      <td>LAC Equity Lab</td>\n",
       "    </tr>\n",
       "    <tr>\n",
       "      <th>140</th>\n",
       "      <td>3.0.IncShr.q4</td>\n",
       "      <td>Income Share of Fourth Quintile</td>\n",
       "      <td>LAC Equity Lab</td>\n",
       "    </tr>\n",
       "    <tr>\n",
       "      <th>141</th>\n",
       "      <td>3.0.IncShr.q5</td>\n",
       "      <td>Income Share of Fifth Quintile</td>\n",
       "      <td>LAC Equity Lab</td>\n",
       "    </tr>\n",
       "    <tr>\n",
       "      <th>8975</th>\n",
       "      <td>SI.DST.02ND.20</td>\n",
       "      <td>Income share held by second 20%</td>\n",
       "      <td>World Development Indicators</td>\n",
       "    </tr>\n",
       "    <tr>\n",
       "      <th>8976</th>\n",
       "      <td>SI.DST.03RD.20</td>\n",
       "      <td>Income share held by third 20%</td>\n",
       "      <td>World Development Indicators</td>\n",
       "    </tr>\n",
       "    <tr>\n",
       "      <th>8977</th>\n",
       "      <td>SI.DST.04TH.20</td>\n",
       "      <td>Income share held by fourth 20%</td>\n",
       "      <td>World Development Indicators</td>\n",
       "    </tr>\n",
       "    <tr>\n",
       "      <th>8978</th>\n",
       "      <td>SI.DST.05TH.20</td>\n",
       "      <td>Income share held by highest 20%</td>\n",
       "      <td>World Development Indicators</td>\n",
       "    </tr>\n",
       "    <tr>\n",
       "      <th>8979</th>\n",
       "      <td>SI.DST.10TH.10</td>\n",
       "      <td>Income share held by highest 10%</td>\n",
       "      <td>World Development Indicators</td>\n",
       "    </tr>\n",
       "    <tr>\n",
       "      <th>8980</th>\n",
       "      <td>SI.DST.FRST.10</td>\n",
       "      <td>Income share held by lowest 10%</td>\n",
       "      <td>World Development Indicators</td>\n",
       "    </tr>\n",
       "    <tr>\n",
       "      <th>8981</th>\n",
       "      <td>SI.DST.FRST.20</td>\n",
       "      <td>Income share held by lowest 20%</td>\n",
       "      <td>World Development Indicators</td>\n",
       "    </tr>\n",
       "  </tbody>\n",
       "</table>\n",
       "</div>"
      ],
      "text/plain": [
       "                  id                              name  \\\n",
       "137    3.0.IncShr.q1    Income Share of First Quintile   \n",
       "138    3.0.IncShr.q2   Income Share of Second Quintile   \n",
       "139    3.0.IncShr.q3    Income Share of Third Quintile   \n",
       "140    3.0.IncShr.q4   Income Share of Fourth Quintile   \n",
       "141    3.0.IncShr.q5    Income Share of Fifth Quintile   \n",
       "8975  SI.DST.02ND.20   Income share held by second 20%   \n",
       "8976  SI.DST.03RD.20    Income share held by third 20%   \n",
       "8977  SI.DST.04TH.20   Income share held by fourth 20%   \n",
       "8978  SI.DST.05TH.20  Income share held by highest 20%   \n",
       "8979  SI.DST.10TH.10  Income share held by highest 10%   \n",
       "8980  SI.DST.FRST.10   Income share held by lowest 10%   \n",
       "8981  SI.DST.FRST.20   Income share held by lowest 20%   \n",
       "\n",
       "                            source  \n",
       "137                 LAC Equity Lab  \n",
       "138                 LAC Equity Lab  \n",
       "139                 LAC Equity Lab  \n",
       "140                 LAC Equity Lab  \n",
       "141                 LAC Equity Lab  \n",
       "8975  World Development Indicators  \n",
       "8976  World Development Indicators  \n",
       "8977  World Development Indicators  \n",
       "8978  World Development Indicators  \n",
       "8979  World Development Indicators  \n",
       "8980  World Development Indicators  \n",
       "8981  World Development Indicators  "
      ]
     },
     "execution_count": 3,
     "metadata": {},
     "output_type": "execute_result"
    }
   ],
   "source": [
    "search_wb(\"income share\") # Search for World Bank data sets which have a description containing \"income share\""
   ]
  },
  {
   "cell_type": "markdown",
   "metadata": {},
   "source": [
    "Pull the data using get_wb_df"
   ]
  },
  {
   "cell_type": "code",
   "execution_count": 4,
   "metadata": {
    "collapsed": false,
    "scrolled": true
   },
   "outputs": [
    {
     "name": "stderr",
     "output_type": "stream",
     "text": [
      "/Users/steffen/anaconda/lib/python3.5/site-packages/pandas_datareader/wb.py:159: FutureWarning: convert_objects is deprecated.  Use the data-type specific converters pd.to_datetime, pd.to_timedelta and pd.to_numeric.\n",
      "  out = out.convert_objects(convert_numeric=True)\n"
     ]
    }
   ],
   "source": [
    "wb_data_inc20 = get_wb_df(\"SI.DST.FRST.20\", \"income bottom quintile\") # This pulls the income share of the bottom quintile"
   ]
  },
  {
   "cell_type": "code",
   "execution_count": 5,
   "metadata": {
    "collapsed": false
   },
   "outputs": [],
   "source": [
    "wb_data_inc20 = mrv(wb_data_inc20,include_year=True)"
   ]
  },
  {
   "cell_type": "code",
   "execution_count": 6,
   "metadata": {
    "collapsed": false
   },
   "outputs": [],
   "source": [
    "wb_data_inc20['value'] = wb_data_inc20['value']/100"
   ]
  },
  {
   "cell_type": "code",
   "execution_count": 7,
   "metadata": {
    "collapsed": false
   },
   "outputs": [
    {
     "data": {
      "text/html": [
       "<div>\n",
       "<table border=\"1\" class=\"dataframe\">\n",
       "  <thead>\n",
       "    <tr style=\"text-align: right;\">\n",
       "      <th></th>\n",
       "      <th>value</th>\n",
       "      <th>year</th>\n",
       "    </tr>\n",
       "    <tr>\n",
       "      <th>country</th>\n",
       "      <th></th>\n",
       "      <th></th>\n",
       "    </tr>\n",
       "  </thead>\n",
       "  <tbody>\n",
       "    <tr>\n",
       "      <th>Albania</th>\n",
       "      <td>0.0885</td>\n",
       "      <td>2012</td>\n",
       "    </tr>\n",
       "    <tr>\n",
       "      <th>Algeria</th>\n",
       "      <td>0.0696</td>\n",
       "      <td>1995</td>\n",
       "    </tr>\n",
       "    <tr>\n",
       "      <th>Angola</th>\n",
       "      <td>0.0543</td>\n",
       "      <td>2008</td>\n",
       "    </tr>\n",
       "  </tbody>\n",
       "</table>\n",
       "</div>"
      ],
      "text/plain": [
       "          value  year\n",
       "country              \n",
       "Albania  0.0885  2012\n",
       "Algeria  0.0696  1995\n",
       "Angola   0.0543  2008"
      ]
     },
     "execution_count": 7,
     "metadata": {},
     "output_type": "execute_result"
    }
   ],
   "source": [
    "wb_data_inc20.head(3)"
   ]
  },
  {
   "cell_type": "code",
   "execution_count": 23,
   "metadata": {
    "collapsed": false
   },
   "outputs": [],
   "source": [
    "wb_data_inc20.rename(columns={'value':'Income share of bootom 20% [SI.DST.FRST.20]'}, inplace=True)"
   ]
  },
  {
   "cell_type": "markdown",
   "metadata": {},
   "source": [
    "Save to a local csv file"
   ]
  },
  {
   "cell_type": "code",
   "execution_count": 24,
   "metadata": {
    "collapsed": false
   },
   "outputs": [],
   "source": [
    "wb_data_inc20.to_csv('wb_data_raw/WDI_SI.DST.FRST.20.csv', encoding='utf-8')"
   ]
  },
  {
   "cell_type": "markdown",
   "metadata": {},
   "source": [
    "## Now look for financial savings data from FINDEX"
   ]
  },
  {
   "cell_type": "code",
   "execution_count": 10,
   "metadata": {
    "collapsed": false
   },
   "outputs": [],
   "source": [
    "# If you want to see more outpit rows/cols/content, add one of the below:\"\n",
    "# with pd.option_context('display.max_rows', 999, 'display.max_columns', 3):\n",
    "# pd.set_option('expand_frame_repr', True)\n",
    "pd.set_option('max_colwidth',200) # This command increases the maximum width of columns. It can interfer with Jupyter's ability to display all columns! It can be reste with: pd.reset_option('max_colwidth')\n",
    "#pd.reset_option('max_colwidth')"
   ]
  },
  {
   "cell_type": "code",
   "execution_count": 11,
   "metadata": {
    "collapsed": false,
    "scrolled": true
   },
   "outputs": [
    {
     "data": {
      "text/html": [
       "<div>\n",
       "<table border=\"1\" class=\"dataframe\">\n",
       "  <thead>\n",
       "    <tr style=\"text-align: right;\">\n",
       "      <th></th>\n",
       "      <th>id</th>\n",
       "      <th>name</th>\n",
       "      <th>source</th>\n",
       "      <th>sourceNote</th>\n",
       "      <th>sourceOrganization</th>\n",
       "      <th>topics</th>\n",
       "    </tr>\n",
       "  </thead>\n",
       "  <tbody>\n",
       "    <tr>\n",
       "      <th>5072</th>\n",
       "      <td>GFDD.AI.06</td>\n",
       "      <td>Saved at a financial institution in the past year (% age 15+)</td>\n",
       "      <td>Global Financial Development</td>\n",
       "      <td>The percentage of respondents who report saving or setting aside any money by using an account at a formal financial institution such as a bank, credit union, microfinance institution, or cooperat...</td>\n",
       "      <td>b'Global Financial Inclusion (Global Findex) Database, World Bank'</td>\n",
       "      <td>Financial Sector</td>\n",
       "    </tr>\n",
       "    <tr>\n",
       "      <th>11035</th>\n",
       "      <td>WP11648.1</td>\n",
       "      <td>Saved at a financial institution in the past year (% age 15+)</td>\n",
       "      <td>Global Findex ( Global Financial Inclusion database)</td>\n",
       "      <td>Denotes the percentage of respondents who report saving or setting aside any money by using an account at a formal financial institution such as a bank, credit union, microfinance institution, or ...</td>\n",
       "      <td>b'Demirguc-Kunt and Klapper, 2012'</td>\n",
       "      <td>Financial Sector</td>\n",
       "    </tr>\n",
       "    <tr>\n",
       "      <th>11036</th>\n",
       "      <td>WP11648.10</td>\n",
       "      <td>Saved at a financial institution in the past year, rural (% age 15+)</td>\n",
       "      <td>Global Findex ( Global Financial Inclusion database)</td>\n",
       "      <td>Denotes the percentage of respondents who report saving or setting aside any money by using an account at a formal financial institution such as a bank, credit union, microfinance institution, or ...</td>\n",
       "      <td>b'Demirguc-Kunt and Klapper, 2012'</td>\n",
       "      <td>Financial Sector</td>\n",
       "    </tr>\n",
       "    <tr>\n",
       "      <th>11037</th>\n",
       "      <td>WP11648.2</td>\n",
       "      <td>Saved at a financial institution in the past year, male (% age 15+)</td>\n",
       "      <td>Global Findex ( Global Financial Inclusion database)</td>\n",
       "      <td>Denotes the percentage of respondents who report saving or setting aside any money by using an account at a formal financial institution such as a bank, credit union, microfinance institution, or ...</td>\n",
       "      <td>b'Demirguc-Kunt and Klapper, 2012'</td>\n",
       "      <td>Financial Sector</td>\n",
       "    </tr>\n",
       "    <tr>\n",
       "      <th>11038</th>\n",
       "      <td>WP11648.3</td>\n",
       "      <td>Saved at a financial institution in the past year, female (% age 15+)</td>\n",
       "      <td>Global Findex ( Global Financial Inclusion database)</td>\n",
       "      <td>Denotes the percentage of respondents who report saving or setting aside any money by using an account at a formal financial institution such as a bank, credit union, microfinance institution, or ...</td>\n",
       "      <td>b'Demirguc-Kunt and Klapper, 2012'</td>\n",
       "      <td>Financial Sector</td>\n",
       "    </tr>\n",
       "    <tr>\n",
       "      <th>11039</th>\n",
       "      <td>WP11648.4</td>\n",
       "      <td>Saved at a financial institution in the past year, young adults (% ages 15-24)</td>\n",
       "      <td>Global Findex ( Global Financial Inclusion database)</td>\n",
       "      <td>Denotes the percentage of respondents who report saving or setting aside any money by using an account at a formal financial institution such as a bank, credit union, microfinance institution, or ...</td>\n",
       "      <td>b'Demirguc-Kunt and Klapper, 2012'</td>\n",
       "      <td>Financial Sector</td>\n",
       "    </tr>\n",
       "    <tr>\n",
       "      <th>11040</th>\n",
       "      <td>WP11648.5</td>\n",
       "      <td>Saved at a financial institution in the past year, older adults (% age 25+)</td>\n",
       "      <td>Global Findex ( Global Financial Inclusion database)</td>\n",
       "      <td>Denotes the percentage of respondents who report saving or setting aside any money by using an account at a formal financial institution such as a bank, credit union, microfinance institution, or ...</td>\n",
       "      <td>b'Demirguc-Kunt and Klapper, 2012'</td>\n",
       "      <td>Financial Sector</td>\n",
       "    </tr>\n",
       "    <tr>\n",
       "      <th>11041</th>\n",
       "      <td>WP11648.6</td>\n",
       "      <td>Saved at a financial institution, primary education or less (% ages 15+) [w1]</td>\n",
       "      <td>Global Findex ( Global Financial Inclusion database)</td>\n",
       "      <td>Denotes the percentage of respondents who report saving or setting aside any money by using an account at a formal financial institution such as a bank, credit union, microfinance institution, or ...</td>\n",
       "      <td>b'Demirguc-Kunt and Klapper, 2012'</td>\n",
       "      <td>Financial Sector</td>\n",
       "    </tr>\n",
       "    <tr>\n",
       "      <th>11042</th>\n",
       "      <td>WP11648.7</td>\n",
       "      <td>Saved at a financial institution, secondary education or more (% ages 15+) [w1]</td>\n",
       "      <td>Global Findex ( Global Financial Inclusion database)</td>\n",
       "      <td>Denotes the percentage of respondents who report saving or setting aside any money by using an account at a formal financial institution such as a bank, credit union, microfinance institution, or ...</td>\n",
       "      <td>b'Demirguc-Kunt and Klapper, 2012'</td>\n",
       "      <td>Financial Sector</td>\n",
       "    </tr>\n",
       "    <tr>\n",
       "      <th>11043</th>\n",
       "      <td>WP11648.8</td>\n",
       "      <td>Saved at a financial institution in the past year, income quintiles I (lowest) and II (% age 15+)</td>\n",
       "      <td>Global Findex ( Global Financial Inclusion database)</td>\n",
       "      <td>Denotes the percentage of respondents who report saving or setting aside any money by using an account at a formal financial institution such as a bank, credit union, microfinance institution, or ...</td>\n",
       "      <td>b'Demirguc-Kunt and Klapper, 2012'</td>\n",
       "      <td>Financial Sector</td>\n",
       "    </tr>\n",
       "    <tr>\n",
       "      <th>11044</th>\n",
       "      <td>WP11648.9</td>\n",
       "      <td>Saved at a financial institution in the past year, income quintiles III, IV, and V (highest)  (% age 15+)</td>\n",
       "      <td>Global Findex ( Global Financial Inclusion database)</td>\n",
       "      <td>Denotes the percentage of respondents who report saving or setting aside any money by using an account at a formal financial institution such as a bank, credit union, microfinance institution, or ...</td>\n",
       "      <td>b'Demirguc-Kunt and Klapper, 2012'</td>\n",
       "      <td>Financial Sector</td>\n",
       "    </tr>\n",
       "    <tr>\n",
       "      <th>11568</th>\n",
       "      <td>WP15165.1</td>\n",
       "      <td>Saved at a financial institution (% age 15+) [w2]</td>\n",
       "      <td>Global Findex ( Global Financial Inclusion database)</td>\n",
       "      <td>Denotes the percentage of respondents who report saving or setting aside any money in the past 12 months by using an account at a bank or another type of financial institution (% age 15+). [w2: da...</td>\n",
       "      <td>b'Demirguc-Kunt et al., 2015'</td>\n",
       "      <td>Financial Sector</td>\n",
       "    </tr>\n",
       "    <tr>\n",
       "      <th>11569</th>\n",
       "      <td>WP15165.10</td>\n",
       "      <td>Saved at a financial institution, rural (% age 15+) [w2]</td>\n",
       "      <td>Global Findex ( Global Financial Inclusion database)</td>\n",
       "      <td>Denotes the percentage of respondents who report saving or setting aside any money in the past 12 months by using an account at a bank or another type of financial institution (rural, % age 15+). ...</td>\n",
       "      <td>b'Demirguc-Kunt et al., 2015'</td>\n",
       "      <td>Financial Sector</td>\n",
       "    </tr>\n",
       "    <tr>\n",
       "      <th>11570</th>\n",
       "      <td>WP15165.2</td>\n",
       "      <td>Saved at a financial institution, male (% age 15+) [w2]</td>\n",
       "      <td>Global Findex ( Global Financial Inclusion database)</td>\n",
       "      <td>Denotes the percentage of respondents who report saving or setting aside any money in the past 12 months by using an account at a bank or another type of financial institution (male, % age 15+). [...</td>\n",
       "      <td>b'Demirguc-Kunt et al., 2015'</td>\n",
       "      <td>Financial Sector</td>\n",
       "    </tr>\n",
       "    <tr>\n",
       "      <th>11571</th>\n",
       "      <td>WP15165.3</td>\n",
       "      <td>Saved at a financial institution, female (% age 15+) [w2]</td>\n",
       "      <td>Global Findex ( Global Financial Inclusion database)</td>\n",
       "      <td>Denotes the percentage of respondents who report saving or setting aside any money in the past 12 months by using an account at a bank or another type of financial institution (female, % age 15+)....</td>\n",
       "      <td>b'Demirguc-Kunt et al., 2015'</td>\n",
       "      <td>Financial Sector</td>\n",
       "    </tr>\n",
       "    <tr>\n",
       "      <th>11572</th>\n",
       "      <td>WP15165.4</td>\n",
       "      <td>Saved at a financial institution, young adults (% ages 15-24) [w2]</td>\n",
       "      <td>Global Findex ( Global Financial Inclusion database)</td>\n",
       "      <td>Denotes the percentage of respondents who report saving or setting aside any money in the past 12 months by using an account at a bank or another type of financial institution (% ages 15-24). [w2:...</td>\n",
       "      <td>b'Demirguc-Kunt et al., 2015'</td>\n",
       "      <td>Financial Sector</td>\n",
       "    </tr>\n",
       "    <tr>\n",
       "      <th>11573</th>\n",
       "      <td>WP15165.5</td>\n",
       "      <td>Saved at a financial institution, older adults (% ages 25+) [w2]</td>\n",
       "      <td>Global Findex ( Global Financial Inclusion database)</td>\n",
       "      <td>Denotes the percentage of respondents who report saving or setting aside any money in the past 12 months by using an account at a bank or another type of financial institution (% age 25+). [w2: da...</td>\n",
       "      <td>b'Demirguc-Kunt et al., 2015'</td>\n",
       "      <td>Financial Sector</td>\n",
       "    </tr>\n",
       "    <tr>\n",
       "      <th>11574</th>\n",
       "      <td>WP15165.6</td>\n",
       "      <td>Saved at a financial institution, primary education or less (% ages 15+) [w2]</td>\n",
       "      <td>Global Findex ( Global Financial Inclusion database)</td>\n",
       "      <td>Denotes the percentage of respondents who report saving or setting aside any money in the past 12 months by using an account at a bank or another type of financial institution (primary education o...</td>\n",
       "      <td>b'Demirguc-Kunt et al., 2015'</td>\n",
       "      <td>Financial Sector</td>\n",
       "    </tr>\n",
       "    <tr>\n",
       "      <th>11575</th>\n",
       "      <td>WP15165.7</td>\n",
       "      <td>Saved at a financial institution, secondary education or more (% ages 15+) [w2]</td>\n",
       "      <td>Global Findex ( Global Financial Inclusion database)</td>\n",
       "      <td>Denotes the percentage of respondents who report saving or setting aside any money in the past 12 months by using an account at a bank or another type of financial institution (secondary education...</td>\n",
       "      <td>b'Demirguc-Kunt et al., 2015'</td>\n",
       "      <td>Financial Sector</td>\n",
       "    </tr>\n",
       "    <tr>\n",
       "      <th>11576</th>\n",
       "      <td>WP15165.8</td>\n",
       "      <td>Saved at a financial institution, income, poorest 40% (% ages 15+) [w2]</td>\n",
       "      <td>Global Findex ( Global Financial Inclusion database)</td>\n",
       "      <td>Denotes the percentage of respondents who report saving or setting aside any money in the past 12 months by using an account at a bank or another type of financial institution (income, poorest 40%...</td>\n",
       "      <td>b'Demirguc-Kunt et al., 2015'</td>\n",
       "      <td>Financial Sector</td>\n",
       "    </tr>\n",
       "    <tr>\n",
       "      <th>11577</th>\n",
       "      <td>WP15165.9</td>\n",
       "      <td>Saved at a financial institution, income, richest 60% (% ages 15+) [w2]</td>\n",
       "      <td>Global Findex ( Global Financial Inclusion database)</td>\n",
       "      <td>Denotes the percentage of respondents who report saving or setting aside any money in the past 12 months by using an account at a bank or another type of financial institution (income, richest 60%...</td>\n",
       "      <td>b'Demirguc-Kunt et al., 2015'</td>\n",
       "      <td>Financial Sector</td>\n",
       "    </tr>\n",
       "    <tr>\n",
       "      <th>11707</th>\n",
       "      <td>WP_time_04.1</td>\n",
       "      <td>Saved at a financial institution (% age 15+) [ts]</td>\n",
       "      <td>Global Findex ( Global Financial Inclusion database)</td>\n",
       "      <td>Denotes the percentage of respondents who report saving or setting aside any money at a bank or another type of financial institution in the past 12 months (see year-specific definitions for detai...</td>\n",
       "      <td>b'Demirguc-Kunt et al., 2015'</td>\n",
       "      <td>Financial Sector</td>\n",
       "    </tr>\n",
       "    <tr>\n",
       "      <th>11708</th>\n",
       "      <td>WP_time_04.2</td>\n",
       "      <td>Saved at a financial institution, male (% age 15+) [ts]</td>\n",
       "      <td>Global Findex ( Global Financial Inclusion database)</td>\n",
       "      <td>Denotes the percentage of respondents who report saving or setting aside any money at a bank or another type of financial institution in the past 12 months (see year-specific definitions for detai...</td>\n",
       "      <td>b'Demirguc-Kunt et al., 2015'</td>\n",
       "      <td>Financial Sector</td>\n",
       "    </tr>\n",
       "    <tr>\n",
       "      <th>11709</th>\n",
       "      <td>WP_time_04.3</td>\n",
       "      <td>Saved at a financial institution, female (% age 15+) [ts]</td>\n",
       "      <td>Global Findex ( Global Financial Inclusion database)</td>\n",
       "      <td>Denotes the percentage of respondents who report saving or setting aside any money at a bank or another type of financial institution in the past 12 months (see year-specific definitions for detai...</td>\n",
       "      <td>b'Demirguc-Kunt et al., 2015'</td>\n",
       "      <td>Financial Sector</td>\n",
       "    </tr>\n",
       "    <tr>\n",
       "      <th>11710</th>\n",
       "      <td>WP_time_04.4</td>\n",
       "      <td>Saved at a financial institution, young adults (% ages 15-24) [ts]</td>\n",
       "      <td>Global Findex ( Global Financial Inclusion database)</td>\n",
       "      <td>Denotes the percentage of respondents who report saving or setting aside any money at a bank or another type of financial institution in the past 12 months (see year-specific definitions for detai...</td>\n",
       "      <td>b'Demirguc-Kunt et al., 2015'</td>\n",
       "      <td>Financial Sector</td>\n",
       "    </tr>\n",
       "    <tr>\n",
       "      <th>11711</th>\n",
       "      <td>WP_time_04.5</td>\n",
       "      <td>Saved at a financial institution, older adults (% ages 25+) [ts]</td>\n",
       "      <td>Global Findex ( Global Financial Inclusion database)</td>\n",
       "      <td>Denotes the percentage of respondents who report saving or setting aside any money at a bank or another type of financial institution in the past 12 months (see year-specific definitions for detai...</td>\n",
       "      <td>b'Demirguc-Kunt et al., 2015'</td>\n",
       "      <td>Financial Sector</td>\n",
       "    </tr>\n",
       "    <tr>\n",
       "      <th>11712</th>\n",
       "      <td>WP_time_04.6</td>\n",
       "      <td>Saved at a financial institution, primary education or less (% ages 15+) [ts]</td>\n",
       "      <td>Global Findex ( Global Financial Inclusion database)</td>\n",
       "      <td>Denotes the percentage of respondents who report saving or setting aside any money at a bank or another type of financial institution in the past 12 months (see year-specific definitions for detai...</td>\n",
       "      <td>b'Demirguc-Kunt et al., 2015'</td>\n",
       "      <td>Financial Sector</td>\n",
       "    </tr>\n",
       "    <tr>\n",
       "      <th>11713</th>\n",
       "      <td>WP_time_04.7</td>\n",
       "      <td>Saved at a financial institution, secondary education or more (% ages 15+) [ts]</td>\n",
       "      <td>Global Findex ( Global Financial Inclusion database)</td>\n",
       "      <td>Denotes the percentage of respondents who report saving or setting aside any money at a bank or another type of financial institution in the past 12 months (see year-specific definitions for detai...</td>\n",
       "      <td>b'Demirguc-Kunt et al., 2015'</td>\n",
       "      <td>Financial Sector</td>\n",
       "    </tr>\n",
       "    <tr>\n",
       "      <th>11714</th>\n",
       "      <td>WP_time_04.8</td>\n",
       "      <td>Saved at a financial institution, income, poorest 40% (% ages 15+) [ts]</td>\n",
       "      <td>Global Findex ( Global Financial Inclusion database)</td>\n",
       "      <td>Denotes the percentage of respondents who report saving or setting aside any money at a bank or another type of financial institution in the past 12 months (see year-specific definitions for detai...</td>\n",
       "      <td>b'Demirguc-Kunt et al., 2015'</td>\n",
       "      <td>Financial Sector</td>\n",
       "    </tr>\n",
       "    <tr>\n",
       "      <th>11715</th>\n",
       "      <td>WP_time_04.9</td>\n",
       "      <td>Saved at a financial institution, income, richest 60% (% ages 15+) [ts]</td>\n",
       "      <td>Global Findex ( Global Financial Inclusion database)</td>\n",
       "      <td>Denotes the percentage of respondents who report saving or setting aside any money at a bank or another type of financial institution in the past 12 months (see year-specific definitions for detai...</td>\n",
       "      <td>b'Demirguc-Kunt et al., 2015'</td>\n",
       "      <td>Financial Sector</td>\n",
       "    </tr>\n",
       "  </tbody>\n",
       "</table>\n",
       "</div>"
      ],
      "text/plain": [
       "                 id  \\\n",
       "5072     GFDD.AI.06   \n",
       "11035     WP11648.1   \n",
       "11036    WP11648.10   \n",
       "11037     WP11648.2   \n",
       "11038     WP11648.3   \n",
       "11039     WP11648.4   \n",
       "11040     WP11648.5   \n",
       "11041     WP11648.6   \n",
       "11042     WP11648.7   \n",
       "11043     WP11648.8   \n",
       "11044     WP11648.9   \n",
       "11568     WP15165.1   \n",
       "11569    WP15165.10   \n",
       "11570     WP15165.2   \n",
       "11571     WP15165.3   \n",
       "11572     WP15165.4   \n",
       "11573     WP15165.5   \n",
       "11574     WP15165.6   \n",
       "11575     WP15165.7   \n",
       "11576     WP15165.8   \n",
       "11577     WP15165.9   \n",
       "11707  WP_time_04.1   \n",
       "11708  WP_time_04.2   \n",
       "11709  WP_time_04.3   \n",
       "11710  WP_time_04.4   \n",
       "11711  WP_time_04.5   \n",
       "11712  WP_time_04.6   \n",
       "11713  WP_time_04.7   \n",
       "11714  WP_time_04.8   \n",
       "11715  WP_time_04.9   \n",
       "\n",
       "                                                                                                            name  \\\n",
       "5072                                               Saved at a financial institution in the past year (% age 15+)   \n",
       "11035                                              Saved at a financial institution in the past year (% age 15+)   \n",
       "11036                                       Saved at a financial institution in the past year, rural (% age 15+)   \n",
       "11037                                        Saved at a financial institution in the past year, male (% age 15+)   \n",
       "11038                                      Saved at a financial institution in the past year, female (% age 15+)   \n",
       "11039                             Saved at a financial institution in the past year, young adults (% ages 15-24)   \n",
       "11040                                Saved at a financial institution in the past year, older adults (% age 25+)   \n",
       "11041                              Saved at a financial institution, primary education or less (% ages 15+) [w1]   \n",
       "11042                            Saved at a financial institution, secondary education or more (% ages 15+) [w1]   \n",
       "11043          Saved at a financial institution in the past year, income quintiles I (lowest) and II (% age 15+)   \n",
       "11044  Saved at a financial institution in the past year, income quintiles III, IV, and V (highest)  (% age 15+)   \n",
       "11568                                                          Saved at a financial institution (% age 15+) [w2]   \n",
       "11569                                                   Saved at a financial institution, rural (% age 15+) [w2]   \n",
       "11570                                                    Saved at a financial institution, male (% age 15+) [w2]   \n",
       "11571                                                  Saved at a financial institution, female (% age 15+) [w2]   \n",
       "11572                                         Saved at a financial institution, young adults (% ages 15-24) [w2]   \n",
       "11573                                           Saved at a financial institution, older adults (% ages 25+) [w2]   \n",
       "11574                              Saved at a financial institution, primary education or less (% ages 15+) [w2]   \n",
       "11575                            Saved at a financial institution, secondary education or more (% ages 15+) [w2]   \n",
       "11576                                    Saved at a financial institution, income, poorest 40% (% ages 15+) [w2]   \n",
       "11577                                    Saved at a financial institution, income, richest 60% (% ages 15+) [w2]   \n",
       "11707                                                          Saved at a financial institution (% age 15+) [ts]   \n",
       "11708                                                    Saved at a financial institution, male (% age 15+) [ts]   \n",
       "11709                                                  Saved at a financial institution, female (% age 15+) [ts]   \n",
       "11710                                         Saved at a financial institution, young adults (% ages 15-24) [ts]   \n",
       "11711                                           Saved at a financial institution, older adults (% ages 25+) [ts]   \n",
       "11712                              Saved at a financial institution, primary education or less (% ages 15+) [ts]   \n",
       "11713                            Saved at a financial institution, secondary education or more (% ages 15+) [ts]   \n",
       "11714                                    Saved at a financial institution, income, poorest 40% (% ages 15+) [ts]   \n",
       "11715                                    Saved at a financial institution, income, richest 60% (% ages 15+) [ts]   \n",
       "\n",
       "                                                     source  \\\n",
       "5072                           Global Financial Development   \n",
       "11035  Global Findex ( Global Financial Inclusion database)   \n",
       "11036  Global Findex ( Global Financial Inclusion database)   \n",
       "11037  Global Findex ( Global Financial Inclusion database)   \n",
       "11038  Global Findex ( Global Financial Inclusion database)   \n",
       "11039  Global Findex ( Global Financial Inclusion database)   \n",
       "11040  Global Findex ( Global Financial Inclusion database)   \n",
       "11041  Global Findex ( Global Financial Inclusion database)   \n",
       "11042  Global Findex ( Global Financial Inclusion database)   \n",
       "11043  Global Findex ( Global Financial Inclusion database)   \n",
       "11044  Global Findex ( Global Financial Inclusion database)   \n",
       "11568  Global Findex ( Global Financial Inclusion database)   \n",
       "11569  Global Findex ( Global Financial Inclusion database)   \n",
       "11570  Global Findex ( Global Financial Inclusion database)   \n",
       "11571  Global Findex ( Global Financial Inclusion database)   \n",
       "11572  Global Findex ( Global Financial Inclusion database)   \n",
       "11573  Global Findex ( Global Financial Inclusion database)   \n",
       "11574  Global Findex ( Global Financial Inclusion database)   \n",
       "11575  Global Findex ( Global Financial Inclusion database)   \n",
       "11576  Global Findex ( Global Financial Inclusion database)   \n",
       "11577  Global Findex ( Global Financial Inclusion database)   \n",
       "11707  Global Findex ( Global Financial Inclusion database)   \n",
       "11708  Global Findex ( Global Financial Inclusion database)   \n",
       "11709  Global Findex ( Global Financial Inclusion database)   \n",
       "11710  Global Findex ( Global Financial Inclusion database)   \n",
       "11711  Global Findex ( Global Financial Inclusion database)   \n",
       "11712  Global Findex ( Global Financial Inclusion database)   \n",
       "11713  Global Findex ( Global Financial Inclusion database)   \n",
       "11714  Global Findex ( Global Financial Inclusion database)   \n",
       "11715  Global Findex ( Global Financial Inclusion database)   \n",
       "\n",
       "                                                                                                                                                                                                    sourceNote  \\\n",
       "5072   The percentage of respondents who report saving or setting aside any money by using an account at a formal financial institution such as a bank, credit union, microfinance institution, or cooperat...   \n",
       "11035  Denotes the percentage of respondents who report saving or setting aside any money by using an account at a formal financial institution such as a bank, credit union, microfinance institution, or ...   \n",
       "11036  Denotes the percentage of respondents who report saving or setting aside any money by using an account at a formal financial institution such as a bank, credit union, microfinance institution, or ...   \n",
       "11037  Denotes the percentage of respondents who report saving or setting aside any money by using an account at a formal financial institution such as a bank, credit union, microfinance institution, or ...   \n",
       "11038  Denotes the percentage of respondents who report saving or setting aside any money by using an account at a formal financial institution such as a bank, credit union, microfinance institution, or ...   \n",
       "11039  Denotes the percentage of respondents who report saving or setting aside any money by using an account at a formal financial institution such as a bank, credit union, microfinance institution, or ...   \n",
       "11040  Denotes the percentage of respondents who report saving or setting aside any money by using an account at a formal financial institution such as a bank, credit union, microfinance institution, or ...   \n",
       "11041  Denotes the percentage of respondents who report saving or setting aside any money by using an account at a formal financial institution such as a bank, credit union, microfinance institution, or ...   \n",
       "11042  Denotes the percentage of respondents who report saving or setting aside any money by using an account at a formal financial institution such as a bank, credit union, microfinance institution, or ...   \n",
       "11043  Denotes the percentage of respondents who report saving or setting aside any money by using an account at a formal financial institution such as a bank, credit union, microfinance institution, or ...   \n",
       "11044  Denotes the percentage of respondents who report saving or setting aside any money by using an account at a formal financial institution such as a bank, credit union, microfinance institution, or ...   \n",
       "11568  Denotes the percentage of respondents who report saving or setting aside any money in the past 12 months by using an account at a bank or another type of financial institution (% age 15+). [w2: da...   \n",
       "11569  Denotes the percentage of respondents who report saving or setting aside any money in the past 12 months by using an account at a bank or another type of financial institution (rural, % age 15+). ...   \n",
       "11570  Denotes the percentage of respondents who report saving or setting aside any money in the past 12 months by using an account at a bank or another type of financial institution (male, % age 15+). [...   \n",
       "11571  Denotes the percentage of respondents who report saving or setting aside any money in the past 12 months by using an account at a bank or another type of financial institution (female, % age 15+)....   \n",
       "11572  Denotes the percentage of respondents who report saving or setting aside any money in the past 12 months by using an account at a bank or another type of financial institution (% ages 15-24). [w2:...   \n",
       "11573  Denotes the percentage of respondents who report saving or setting aside any money in the past 12 months by using an account at a bank or another type of financial institution (% age 25+). [w2: da...   \n",
       "11574  Denotes the percentage of respondents who report saving or setting aside any money in the past 12 months by using an account at a bank or another type of financial institution (primary education o...   \n",
       "11575  Denotes the percentage of respondents who report saving or setting aside any money in the past 12 months by using an account at a bank or another type of financial institution (secondary education...   \n",
       "11576  Denotes the percentage of respondents who report saving or setting aside any money in the past 12 months by using an account at a bank or another type of financial institution (income, poorest 40%...   \n",
       "11577  Denotes the percentage of respondents who report saving or setting aside any money in the past 12 months by using an account at a bank or another type of financial institution (income, richest 60%...   \n",
       "11707  Denotes the percentage of respondents who report saving or setting aside any money at a bank or another type of financial institution in the past 12 months (see year-specific definitions for detai...   \n",
       "11708  Denotes the percentage of respondents who report saving or setting aside any money at a bank or another type of financial institution in the past 12 months (see year-specific definitions for detai...   \n",
       "11709  Denotes the percentage of respondents who report saving or setting aside any money at a bank or another type of financial institution in the past 12 months (see year-specific definitions for detai...   \n",
       "11710  Denotes the percentage of respondents who report saving or setting aside any money at a bank or another type of financial institution in the past 12 months (see year-specific definitions for detai...   \n",
       "11711  Denotes the percentage of respondents who report saving or setting aside any money at a bank or another type of financial institution in the past 12 months (see year-specific definitions for detai...   \n",
       "11712  Denotes the percentage of respondents who report saving or setting aside any money at a bank or another type of financial institution in the past 12 months (see year-specific definitions for detai...   \n",
       "11713  Denotes the percentage of respondents who report saving or setting aside any money at a bank or another type of financial institution in the past 12 months (see year-specific definitions for detai...   \n",
       "11714  Denotes the percentage of respondents who report saving or setting aside any money at a bank or another type of financial institution in the past 12 months (see year-specific definitions for detai...   \n",
       "11715  Denotes the percentage of respondents who report saving or setting aside any money at a bank or another type of financial institution in the past 12 months (see year-specific definitions for detai...   \n",
       "\n",
       "                                                       sourceOrganization  \\\n",
       "5072   b'Global Financial Inclusion (Global Findex) Database, World Bank'   \n",
       "11035                                  b'Demirguc-Kunt and Klapper, 2012'   \n",
       "11036                                  b'Demirguc-Kunt and Klapper, 2012'   \n",
       "11037                                  b'Demirguc-Kunt and Klapper, 2012'   \n",
       "11038                                  b'Demirguc-Kunt and Klapper, 2012'   \n",
       "11039                                  b'Demirguc-Kunt and Klapper, 2012'   \n",
       "11040                                  b'Demirguc-Kunt and Klapper, 2012'   \n",
       "11041                                  b'Demirguc-Kunt and Klapper, 2012'   \n",
       "11042                                  b'Demirguc-Kunt and Klapper, 2012'   \n",
       "11043                                  b'Demirguc-Kunt and Klapper, 2012'   \n",
       "11044                                  b'Demirguc-Kunt and Klapper, 2012'   \n",
       "11568                                       b'Demirguc-Kunt et al., 2015'   \n",
       "11569                                       b'Demirguc-Kunt et al., 2015'   \n",
       "11570                                       b'Demirguc-Kunt et al., 2015'   \n",
       "11571                                       b'Demirguc-Kunt et al., 2015'   \n",
       "11572                                       b'Demirguc-Kunt et al., 2015'   \n",
       "11573                                       b'Demirguc-Kunt et al., 2015'   \n",
       "11574                                       b'Demirguc-Kunt et al., 2015'   \n",
       "11575                                       b'Demirguc-Kunt et al., 2015'   \n",
       "11576                                       b'Demirguc-Kunt et al., 2015'   \n",
       "11577                                       b'Demirguc-Kunt et al., 2015'   \n",
       "11707                                       b'Demirguc-Kunt et al., 2015'   \n",
       "11708                                       b'Demirguc-Kunt et al., 2015'   \n",
       "11709                                       b'Demirguc-Kunt et al., 2015'   \n",
       "11710                                       b'Demirguc-Kunt et al., 2015'   \n",
       "11711                                       b'Demirguc-Kunt et al., 2015'   \n",
       "11712                                       b'Demirguc-Kunt et al., 2015'   \n",
       "11713                                       b'Demirguc-Kunt et al., 2015'   \n",
       "11714                                       b'Demirguc-Kunt et al., 2015'   \n",
       "11715                                       b'Demirguc-Kunt et al., 2015'   \n",
       "\n",
       "                  topics  \n",
       "5072   Financial Sector   \n",
       "11035  Financial Sector   \n",
       "11036  Financial Sector   \n",
       "11037  Financial Sector   \n",
       "11038  Financial Sector   \n",
       "11039  Financial Sector   \n",
       "11040  Financial Sector   \n",
       "11041  Financial Sector   \n",
       "11042  Financial Sector   \n",
       "11043  Financial Sector   \n",
       "11044  Financial Sector   \n",
       "11568  Financial Sector   \n",
       "11569  Financial Sector   \n",
       "11570  Financial Sector   \n",
       "11571  Financial Sector   \n",
       "11572  Financial Sector   \n",
       "11573  Financial Sector   \n",
       "11574  Financial Sector   \n",
       "11575  Financial Sector   \n",
       "11576  Financial Sector   \n",
       "11577  Financial Sector   \n",
       "11707  Financial Sector   \n",
       "11708  Financial Sector   \n",
       "11709  Financial Sector   \n",
       "11710  Financial Sector   \n",
       "11711  Financial Sector   \n",
       "11712  Financial Sector   \n",
       "11713  Financial Sector   \n",
       "11714  Financial Sector   \n",
       "11715  Financial Sector   "
      ]
     },
     "execution_count": 11,
     "metadata": {},
     "output_type": "execute_result"
    }
   ],
   "source": [
    "wb.search('.*saved at a financial')\n",
    "# The difference between the [w1] and [w2] and [ts] datasets are the availability of data: w1 contains 2011 data,\n",
    "# w2 2014 data and ts both years"
   ]
  },
  {
   "cell_type": "markdown",
   "metadata": {},
   "source": [
    "For savings at financial institutions, there are several indicators available which could all be interesting:\n",
    "10989 \tWP11648.1 \tSaved at a financial institution in the past year (% age 15+)\n",
    "10997 \tWP11648.8 \tSaved at a financial institution in the past year, income quintiles I (lowest) and II (% age 15+)\n",
    "11521 \tWP15165.1 \tSaved at a financial institution (% age 15+) [w2]\n",
    "11529 \tWP15165.8 \tSaved at a financial institution, income, poorest 40% (% ages 15+) [w2]\n",
    "11667 \tWP_time_04.8 \tSaved at a financial institution, income, poorest 40% (% ages 15+) [ts]\n"
   ]
  },
  {
   "cell_type": "code",
   "execution_count": 12,
   "metadata": {
    "collapsed": false,
    "scrolled": true
   },
   "outputs": [
    {
     "name": "stderr",
     "output_type": "stream",
     "text": [
      "/Users/steffen/anaconda/lib/python3.5/site-packages/pandas_datareader/wb.py:159: FutureWarning: convert_objects is deprecated.  Use the data-type specific converters pd.to_datetime, pd.to_timedelta and pd.to_numeric.\n",
      "  out = out.convert_objects(convert_numeric=True)\n"
     ]
    }
   ],
   "source": [
    "#savings_data = wb.download(indicator=['WP11648.1','WP11648.8','WP15165.1','WP15165.8','WP_time_04.8'], country='all', start=1990, end=2015)\n",
    "#savings_data_p40_w2 = get_wb_df('WP15165.8', 'Saved, poorest, w2')\n",
    "savings_data_p40 = get_wb_df('WP_time_04.8', 'Saved, poorest, ts')\n",
    "savings_data_r60 = get_wb_df('WP_time_04.9', 'Saved, poorest')"
   ]
  },
  {
   "cell_type": "code",
   "execution_count": 13,
   "metadata": {
    "collapsed": false
   },
   "outputs": [],
   "source": [
    "savings_data_p40.drop('MRV', inplace='True', level=1) #Drop the 'MRV' entry, as it messes up the further processing\n",
    "savings_data_r60.drop('MRV', inplace='True', level=1) #Drop the 'MRV' entry, as it messes up the further processing"
   ]
  },
  {
   "cell_type": "code",
   "execution_count": null,
   "metadata": {
    "collapsed": false
   },
   "outputs": [],
   "source": []
  },
  {
   "cell_type": "code",
   "execution_count": null,
   "metadata": {
    "collapsed": true
   },
   "outputs": [],
   "source": []
  },
  {
   "cell_type": "code",
   "execution_count": 14,
   "metadata": {
    "collapsed": false,
    "scrolled": true
   },
   "outputs": [],
   "source": [
    "savings_data_p40 = mrv(savings_data_p40, include_year=True)\n",
    "savings_data_r60 = mrv(savings_data_r60, include_year=True)"
   ]
  },
  {
   "cell_type": "code",
   "execution_count": 15,
   "metadata": {
    "collapsed": false
   },
   "outputs": [],
   "source": [
    "savings_data_p40['value'] = savings_data_p40['value']/100\n",
    "savings_data_r60['value'] = savings_data_r60['value']/100"
   ]
  },
  {
   "cell_type": "code",
   "execution_count": 16,
   "metadata": {
    "collapsed": false
   },
   "outputs": [
    {
     "data": {
      "text/html": [
       "<div>\n",
       "<table border=\"1\" class=\"dataframe\">\n",
       "  <thead>\n",
       "    <tr style=\"text-align: right;\">\n",
       "      <th></th>\n",
       "      <th>value</th>\n",
       "      <th>year</th>\n",
       "    </tr>\n",
       "    <tr>\n",
       "      <th>country</th>\n",
       "      <th></th>\n",
       "      <th></th>\n",
       "    </tr>\n",
       "  </thead>\n",
       "  <tbody>\n",
       "    <tr>\n",
       "      <th>Afghanistan</th>\n",
       "      <td>0.044609</td>\n",
       "      <td>2014</td>\n",
       "    </tr>\n",
       "    <tr>\n",
       "      <th>Albania</th>\n",
       "      <td>0.096454</td>\n",
       "      <td>2014</td>\n",
       "    </tr>\n",
       "    <tr>\n",
       "      <th>Algeria</th>\n",
       "      <td>0.164780</td>\n",
       "      <td>2014</td>\n",
       "    </tr>\n",
       "    <tr>\n",
       "      <th>Angola</th>\n",
       "      <td>0.222081</td>\n",
       "      <td>2014</td>\n",
       "    </tr>\n",
       "    <tr>\n",
       "      <th>Argentina</th>\n",
       "      <td>0.060690</td>\n",
       "      <td>2014</td>\n",
       "    </tr>\n",
       "  </tbody>\n",
       "</table>\n",
       "</div>"
      ],
      "text/plain": [
       "                value  year\n",
       "country                    \n",
       "Afghanistan  0.044609  2014\n",
       "Albania      0.096454  2014\n",
       "Algeria      0.164780  2014\n",
       "Angola       0.222081  2014\n",
       "Argentina    0.060690  2014"
      ]
     },
     "execution_count": 16,
     "metadata": {},
     "output_type": "execute_result"
    }
   ],
   "source": [
    "savings_data_r60.head(5)"
   ]
  },
  {
   "cell_type": "code",
   "execution_count": 17,
   "metadata": {
    "collapsed": false
   },
   "outputs": [],
   "source": [
    "savings_data_p40.rename(columns={'value':'Saved at a financial institution, 40% poorest [WP_time_04.8]'}, inplace=True)\n",
    "savings_data_r60.rename(columns={'value':'Saved at a financial institution, 60% richest [WP_time_04.9]'}, inplace=True)"
   ]
  },
  {
   "cell_type": "code",
   "execution_count": 18,
   "metadata": {
    "collapsed": false,
    "scrolled": true
   },
   "outputs": [
    {
     "data": {
      "text/html": [
       "<div>\n",
       "<table border=\"1\" class=\"dataframe\">\n",
       "  <thead>\n",
       "    <tr style=\"text-align: right;\">\n",
       "      <th></th>\n",
       "      <th>Saved at a financial institution, 40% poorest [WP_time_04.8]</th>\n",
       "      <th>year</th>\n",
       "    </tr>\n",
       "    <tr>\n",
       "      <th>country</th>\n",
       "      <th></th>\n",
       "      <th></th>\n",
       "    </tr>\n",
       "  </thead>\n",
       "  <tbody>\n",
       "    <tr>\n",
       "      <th>Afghanistan</th>\n",
       "      <td>0.022336</td>\n",
       "      <td>2014</td>\n",
       "    </tr>\n",
       "    <tr>\n",
       "      <th>Albania</th>\n",
       "      <td>0.044618</td>\n",
       "      <td>2014</td>\n",
       "    </tr>\n",
       "    <tr>\n",
       "      <th>Algeria</th>\n",
       "      <td>0.101800</td>\n",
       "      <td>2014</td>\n",
       "    </tr>\n",
       "    <tr>\n",
       "      <th>Angola</th>\n",
       "      <td>0.040259</td>\n",
       "      <td>2014</td>\n",
       "    </tr>\n",
       "  </tbody>\n",
       "</table>\n",
       "</div>"
      ],
      "text/plain": [
       "             Saved at a financial institution, 40% poorest [WP_time_04.8]  \\\n",
       "country                                                                     \n",
       "Afghanistan                                                      0.022336   \n",
       "Albania                                                          0.044618   \n",
       "Algeria                                                          0.101800   \n",
       "Angola                                                           0.040259   \n",
       "\n",
       "             year  \n",
       "country            \n",
       "Afghanistan  2014  \n",
       "Albania      2014  \n",
       "Algeria      2014  \n",
       "Angola       2014  "
      ]
     },
     "execution_count": 18,
     "metadata": {},
     "output_type": "execute_result"
    }
   ],
   "source": [
    "savings_data_p40.head(4)"
   ]
  },
  {
   "cell_type": "code",
   "execution_count": 19,
   "metadata": {
    "collapsed": false,
    "scrolled": true
   },
   "outputs": [
    {
     "data": {
      "text/html": [
       "<div>\n",
       "<table border=\"1\" class=\"dataframe\">\n",
       "  <thead>\n",
       "    <tr style=\"text-align: right;\">\n",
       "      <th></th>\n",
       "      <th>Saved at a financial institution, 60% richest [WP_time_04.9]</th>\n",
       "      <th>year</th>\n",
       "    </tr>\n",
       "    <tr>\n",
       "      <th>country</th>\n",
       "      <th></th>\n",
       "      <th></th>\n",
       "    </tr>\n",
       "  </thead>\n",
       "  <tbody>\n",
       "    <tr>\n",
       "      <th>Afghanistan</th>\n",
       "      <td>0.044609</td>\n",
       "      <td>2014</td>\n",
       "    </tr>\n",
       "    <tr>\n",
       "      <th>Albania</th>\n",
       "      <td>0.096454</td>\n",
       "      <td>2014</td>\n",
       "    </tr>\n",
       "    <tr>\n",
       "      <th>Algeria</th>\n",
       "      <td>0.164780</td>\n",
       "      <td>2014</td>\n",
       "    </tr>\n",
       "    <tr>\n",
       "      <th>Angola</th>\n",
       "      <td>0.222081</td>\n",
       "      <td>2014</td>\n",
       "    </tr>\n",
       "  </tbody>\n",
       "</table>\n",
       "</div>"
      ],
      "text/plain": [
       "             Saved at a financial institution, 60% richest [WP_time_04.9]  \\\n",
       "country                                                                     \n",
       "Afghanistan                                                      0.044609   \n",
       "Albania                                                          0.096454   \n",
       "Algeria                                                          0.164780   \n",
       "Angola                                                           0.222081   \n",
       "\n",
       "             year  \n",
       "country            \n",
       "Afghanistan  2014  \n",
       "Albania      2014  \n",
       "Algeria      2014  \n",
       "Angola       2014  "
      ]
     },
     "execution_count": 19,
     "metadata": {},
     "output_type": "execute_result"
    }
   ],
   "source": [
    "savings_data_r60.head(4)"
   ]
  },
  {
   "cell_type": "code",
   "execution_count": null,
   "metadata": {
    "collapsed": true
   },
   "outputs": [],
   "source": []
  },
  {
   "cell_type": "markdown",
   "metadata": {},
   "source": [
    "Save to csv file"
   ]
  },
  {
   "cell_type": "code",
   "execution_count": 20,
   "metadata": {
    "collapsed": true
   },
   "outputs": [],
   "source": [
    "savings_data_p40.to_csv('wb_data_raw/FINDEX_saved_p40.csv',  encoding='utf-8')\n",
    "savings_data_r60.to_csv('wb_data_raw/FINDEX_saved_r60.csv',  encoding='utf-8')"
   ]
  }
 ],
 "metadata": {
  "kernelspec": {
   "display_name": "Python 3",
   "language": "python",
   "name": "python3"
  },
  "language_info": {
   "codemirror_mode": {
    "name": "ipython",
    "version": 3
   },
   "file_extension": ".py",
   "mimetype": "text/x-python",
   "name": "python",
   "nbconvert_exporter": "python",
   "pygments_lexer": "ipython3",
   "version": "3.5.1"
  }
 },
 "nbformat": 4,
 "nbformat_minor": 0
}
