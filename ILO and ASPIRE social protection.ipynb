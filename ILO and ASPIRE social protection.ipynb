{
 "cells": [
  {
   "cell_type": "markdown",
   "metadata": {},
   "source": [
    "# This Notebook looks at the relationship between ILO and ASPIRE data:\n",
    "- Plot the ILO total social protection (w/o healthcare spendings) and ASPIRE social_p and social_r (Adrien's calculations) in a scatterplot\n",
    "- Carry out a regression analyses with both piecewise linear and linear functions\n",
    "- Interpolate the countries missing in ASPIRE to ILO"
   ]
  },
  {
   "cell_type": "markdown",
   "metadata": {},
   "source": [
    "## Load functions"
   ]
  },
  {
   "cell_type": "code",
   "execution_count": 1,
   "metadata": {
    "collapsed": true
   },
   "outputs": [],
   "source": [
    "import numpy as np\n",
    "import pandas as pd\n",
    "import scipy as sp\n",
    "import statsmodels.api as sm\n",
    "import statsmodels.formula.api as smf\n",
    "from statsmodels.formula.api import ols"
   ]
  },
  {
   "cell_type": "code",
   "execution_count": 2,
   "metadata": {
    "collapsed": true
   },
   "outputs": [],
   "source": [
    "# WB country name translation\n",
    "any_name_to_wb_name = pd.read_csv(\"../git/country_names/out/any_name_to_wb_name.csv\",index_col=\"any\",squeeze=True, encoding=\"utf-8\")"
   ]
  },
  {
   "cell_type": "code",
   "execution_count": 3,
   "metadata": {
    "collapsed": true
   },
   "outputs": [],
   "source": [
    "# WB api wrapper\n",
    "import sys\n",
    "sys.path.insert(0, '../git/wb_api_wrapper')\n",
    "from wb_api_wrapper import mrv"
   ]
  },
  {
   "cell_type": "code",
   "execution_count": 4,
   "metadata": {
    "collapsed": true
   },
   "outputs": [],
   "source": [
    "# Import plotting routines\n",
    "%matplotlib inline\n",
    "import matplotlib.pyplot as plt\n",
    "import matplotlib\n",
    "matplotlib.style.use('ggplot')"
   ]
  },
  {
   "cell_type": "markdown",
   "metadata": {
    "collapsed": true
   },
   "source": [
    "## Open the ILO data"
   ]
  },
  {
   "cell_type": "code",
   "execution_count": 5,
   "metadata": {
    "collapsed": false
   },
   "outputs": [],
   "source": [
    "ILO_data = pd.read_csv('ILO/ILO.csv', index_col=0, encoding='utf-8', na_values=['...', '…'])\n",
    "ILO_data.index=(ILO_data.index.str.strip()) # Deletes white spaces at the end of the index entries in the ILO index\n",
    "ILO_data.sort_index().head(12) # Correct flaws in the ILO data\n",
    "ILO_data = ILO_data.rename(index=any_name_to_wb_name) # rename the index using a dictionary-like translation, which in this case is any_name_to_wb_name"
   ]
  },
  {
   "cell_type": "code",
   "execution_count": 6,
   "metadata": {
    "collapsed": false
   },
   "outputs": [
    {
     "data": {
      "text/html": [
       "<div>\n",
       "<table border=\"1\" class=\"dataframe\">\n",
       "  <thead>\n",
       "    <tr style=\"text-align: right;\">\n",
       "      <th></th>\n",
       "      <th>Total public social protection expenditure and health expenditure (% GDP)</th>\n",
       "      <th>Public health care (% GDP)</th>\n",
       "      <th>Public social protection (% GDP)</th>\n",
       "      <th>year</th>\n",
       "      <th>sanity</th>\n",
       "    </tr>\n",
       "    <tr>\n",
       "      <th>country</th>\n",
       "      <th></th>\n",
       "      <th></th>\n",
       "      <th></th>\n",
       "      <th></th>\n",
       "      <th></th>\n",
       "    </tr>\n",
       "  </thead>\n",
       "  <tbody>\n",
       "    <tr>\n",
       "      <th>Afghanistan</th>\n",
       "      <td>5.60</td>\n",
       "      <td>3.61</td>\n",
       "      <td>1.99</td>\n",
       "      <td>2011.0</td>\n",
       "      <td>0</td>\n",
       "    </tr>\n",
       "    <tr>\n",
       "      <th>Albania</th>\n",
       "      <td>10.83</td>\n",
       "      <td>2.68</td>\n",
       "      <td>8.15</td>\n",
       "      <td>2011.0</td>\n",
       "      <td>0</td>\n",
       "    </tr>\n",
       "    <tr>\n",
       "      <th>Algeria</th>\n",
       "      <td>8.53</td>\n",
       "      <td>3.17</td>\n",
       "      <td>5.36</td>\n",
       "      <td>2011.0</td>\n",
       "      <td>0</td>\n",
       "    </tr>\n",
       "    <tr>\n",
       "      <th>Angola</th>\n",
       "      <td>6.79</td>\n",
       "      <td>2.15</td>\n",
       "      <td>4.64</td>\n",
       "      <td>2011.0</td>\n",
       "      <td>0</td>\n",
       "    </tr>\n",
       "  </tbody>\n",
       "</table>\n",
       "</div>"
      ],
      "text/plain": [
       "             Total public social protection expenditure and health expenditure (% GDP)  \\\n",
       "country                                                                                  \n",
       "Afghanistan                                               5.60                           \n",
       "Albania                                                  10.83                           \n",
       "Algeria                                                   8.53                           \n",
       "Angola                                                    6.79                           \n",
       "\n",
       "             Public health care (% GDP)  Public social protection (% GDP)  \\\n",
       "country                                                                     \n",
       "Afghanistan                        3.61                              1.99   \n",
       "Albania                            2.68                              8.15   \n",
       "Algeria                            3.17                              5.36   \n",
       "Angola                             2.15                              4.64   \n",
       "\n",
       "               year sanity  \n",
       "country                     \n",
       "Afghanistan  2011.0      0  \n",
       "Albania      2011.0      0  \n",
       "Algeria      2011.0      0  \n",
       "Angola       2011.0      0  "
      ]
     },
     "execution_count": 6,
     "metadata": {},
     "output_type": "execute_result"
    }
   ],
   "source": [
    "ILO_data.rename(columns = {'Total public social protection expenditure and health expenditure':\n",
    "                           'Total public social protection expenditure and health expenditure (% GDP)'},\n",
    "               inplace=True)\n",
    "ILO_data.rename(columns = {'Public health care':\n",
    "                           'Public health care (% GDP)'},\n",
    "               inplace=True)\n",
    "ILO_data.rename(columns = {'Public social protection':\n",
    "                           'Public social protection (% GDP)'},\n",
    "               inplace=True)\n",
    "ILO_data = ILO_data.rename(index=any_name_to_wb_name)\n",
    "ILO_data.sort_index(inplace=True)\n",
    "ILO_data.head(4)"
   ]
  },
  {
   "cell_type": "markdown",
   "metadata": {},
   "source": [
    "### Remove some non-country data entries"
   ]
  },
  {
   "cell_type": "code",
   "execution_count": 7,
   "metadata": {
    "collapsed": false
   },
   "outputs": [],
   "source": [
    "ILO_data.drop('Europe', inplace=True, errors='ignore')\n",
    "ILO_data.drop('Latin America and the Caribbean', inplace=True, errors='ignore')\n",
    "ILO_data.drop('Asia and the Middle East', inplace=True, errors='ignore')"
   ]
  },
  {
   "cell_type": "markdown",
   "metadata": {},
   "source": [
    "## Get social_p and social_r"
   ]
  },
  {
   "cell_type": "code",
   "execution_count": 8,
   "metadata": {
    "collapsed": false
   },
   "outputs": [],
   "source": [
    "df_socprot = pd.read_csv('../git/resilience_indicator/df.csv', index_col='country', usecols=['country','social_p', 'social_r'])\n",
    "df_socprot = df_socprot.rename(index=any_name_to_wb_name)"
   ]
  },
  {
   "cell_type": "code",
   "execution_count": 9,
   "metadata": {
    "collapsed": false
   },
   "outputs": [
    {
     "data": {
      "text/html": [
       "<div>\n",
       "<table border=\"1\" class=\"dataframe\">\n",
       "  <thead>\n",
       "    <tr style=\"text-align: right;\">\n",
       "      <th></th>\n",
       "      <th>social_p</th>\n",
       "      <th>social_r</th>\n",
       "    </tr>\n",
       "    <tr>\n",
       "      <th>country</th>\n",
       "      <th></th>\n",
       "      <th></th>\n",
       "    </tr>\n",
       "  </thead>\n",
       "  <tbody>\n",
       "    <tr>\n",
       "      <th>Albania</th>\n",
       "      <td>0.262950</td>\n",
       "      <td>0.179360</td>\n",
       "    </tr>\n",
       "    <tr>\n",
       "      <th>Argentina</th>\n",
       "      <td>0.200153</td>\n",
       "      <td>0.142648</td>\n",
       "    </tr>\n",
       "  </tbody>\n",
       "</table>\n",
       "</div>"
      ],
      "text/plain": [
       "           social_p  social_r\n",
       "country                      \n",
       "Albania    0.262950  0.179360\n",
       "Argentina  0.200153  0.142648"
      ]
     },
     "execution_count": 9,
     "metadata": {},
     "output_type": "execute_result"
    }
   ],
   "source": [
    "df_socprot.head(2)"
   ]
  },
  {
   "cell_type": "markdown",
   "metadata": {},
   "source": [
    "## Plot the data"
   ]
  },
  {
   "cell_type": "markdown",
   "metadata": {},
   "source": [
    "### Prepare the data sets for plotting"
   ]
  },
  {
   "cell_type": "code",
   "execution_count": 10,
   "metadata": {
    "collapsed": false
   },
   "outputs": [],
   "source": [
    "ilo_plot1 = ILO_data['Public social protection (% GDP)']\n",
    "ilo_plot1 = pd.to_numeric(ilo_plot1, errors='coerce') # This changes str to flt"
   ]
  },
  {
   "cell_type": "markdown",
   "metadata": {},
   "source": [
    "Bring both datasets into the same array to make a scatterplot"
   ]
  },
  {
   "cell_type": "code",
   "execution_count": 11,
   "metadata": {
    "collapsed": true
   },
   "outputs": [],
   "source": [
    "df_plot = pd.concat([ilo_plot1, df_socprot['social_p'], df_socprot['social_r']], axis=1)"
   ]
  },
  {
   "cell_type": "code",
   "execution_count": 12,
   "metadata": {
    "collapsed": false
   },
   "outputs": [],
   "source": [
    "x_grid = np.linspace(0,df_plot['Public social protection (% GDP)'].max(),100)"
   ]
  },
  {
   "cell_type": "markdown",
   "metadata": {},
   "source": [
    "### Scatterplot"
   ]
  },
  {
   "cell_type": "code",
   "execution_count": 13,
   "metadata": {
    "collapsed": false
   },
   "outputs": [
    {
     "data": {
      "text/plain": [
       "<matplotlib.legend.Legend at 0x114b22a20>"
      ]
     },
     "execution_count": 13,
     "metadata": {},
     "output_type": "execute_result"
    },
    {
     "data": {
      "image/png": "[encoded data removed]",
      "text/plain": [
       "<matplotlib.figure.Figure at 0x11467f898>"
      ]
     },
     "metadata": {},
     "output_type": "display_data"
    }
   ],
   "source": [
    "fig1 = plt.figure()\n",
    "plt.scatter(df_plot['Public social protection (% GDP)'], df_plot['social_p'], color='r', label='poor', clip_on=False)\n",
    "plt.scatter(df_plot['Public social protection (% GDP)'], df_plot['social_r'], color='b', label='rich', clip_on=False)\n",
    "\n",
    "#for k in df_plot.index:\n",
    "    #plt.annotate(xy = [df_plot.loc[k,'Public social protection (% GDP)'], df_plot.loc[k,'social_p']], s=k, xycoords='data')\n",
    "    #plt.annotate(xy = [df_plot.loc[k,'Public social protection (% GDP)'], df_plot.loc[k,'social_r']], s=k, xycoords='data')\n",
    "\n",
    "plt.xlabel('ILO Public Social Protection w/o healthcare (% GDP)')\n",
    "plt.ylabel('ASPIRE social protection')\n",
    "plt.xlim(0)\n",
    "plt.ylim(0)\n",
    "plt.legend()"
   ]
  },
  {
   "cell_type": "markdown",
   "metadata": {},
   "source": [
    "# Regression analysis"
   ]
  },
  {
   "cell_type": "code",
   "execution_count": 14,
   "metadata": {
    "collapsed": true
   },
   "outputs": [],
   "source": [
    "XY = df_plot.dropna() # Get rid of NaNs\n",
    "X = XY['Public social protection (% GDP)'].values\n",
    "Yp = XY['social_p'].values\n",
    "Yr = XY['social_r'].values"
   ]
  },
  {
   "cell_type": "markdown",
   "metadata": {},
   "source": [
    "## Linear Regression"
   ]
  },
  {
   "cell_type": "code",
   "execution_count": 15,
   "metadata": {
    "collapsed": false
   },
   "outputs": [
    {
     "data": {
      "text/html": [
       "<table class=\"simpletable\">\n",
       "<caption>OLS Regression Results</caption>\n",
       "<tr>\n",
       "  <th>Dep. Variable:</th>            <td>y</td>        <th>  R-squared:         </th> <td>   0.750</td>\n",
       "</tr>\n",
       "<tr>\n",
       "  <th>Model:</th>                   <td>OLS</td>       <th>  Adj. R-squared:    </th> <td>   0.747</td>\n",
       "</tr>\n",
       "<tr>\n",
       "  <th>Method:</th>             <td>Least Squares</td>  <th>  F-statistic:       </th> <td>   264.3</td>\n",
       "</tr>\n",
       "<tr>\n",
       "  <th>Date:</th>             <td>Tue, 19 Apr 2016</td> <th>  Prob (F-statistic):</th> <td>3.05e-28</td>\n",
       "</tr>\n",
       "<tr>\n",
       "  <th>Time:</th>                 <td>14:36:29</td>     <th>  Log-Likelihood:    </th> <td>  11.757</td>\n",
       "</tr>\n",
       "<tr>\n",
       "  <th>No. Observations:</th>      <td>    89</td>      <th>  AIC:               </th> <td>  -21.51</td>\n",
       "</tr>\n",
       "<tr>\n",
       "  <th>Df Residuals:</th>          <td>    88</td>      <th>  BIC:               </th> <td>  -19.02</td>\n",
       "</tr>\n",
       "<tr>\n",
       "  <th>Df Model:</th>              <td>     1</td>      <th>                     </th>     <td> </td>   \n",
       "</tr>\n",
       "<tr>\n",
       "  <th>Covariance Type:</th>      <td>nonrobust</td>    <th>                     </th>     <td> </td>   \n",
       "</tr>\n",
       "</table>\n",
       "<table class=\"simpletable\">\n",
       "<tr>\n",
       "   <td></td>     <th>coef</th>     <th>std err</th>      <th>t</th>      <th>P>|t|</th> <th>[95.0% Conf. Int.]</th> \n",
       "</tr>\n",
       "<tr>\n",
       "  <th>x1</th> <td>    0.0339</td> <td>    0.002</td> <td>   16.256</td> <td> 0.000</td> <td>    0.030     0.038</td>\n",
       "</tr>\n",
       "</table>\n",
       "<table class=\"simpletable\">\n",
       "<tr>\n",
       "  <th>Omnibus:</th>       <td>12.328</td> <th>  Durbin-Watson:     </th> <td>   2.305</td>\n",
       "</tr>\n",
       "<tr>\n",
       "  <th>Prob(Omnibus):</th> <td> 0.002</td> <th>  Jarque-Bera (JB):  </th> <td>  14.062</td>\n",
       "</tr>\n",
       "<tr>\n",
       "  <th>Skew:</th>          <td> 0.739</td> <th>  Prob(JB):          </th> <td>0.000884</td>\n",
       "</tr>\n",
       "<tr>\n",
       "  <th>Kurtosis:</th>      <td> 4.268</td> <th>  Cond. No.          </th> <td>    1.00</td>\n",
       "</tr>\n",
       "</table>"
      ],
      "text/plain": [
       "<class 'statsmodels.iolib.summary.Summary'>\n",
       "\"\"\"\n",
       "                            OLS Regression Results                            \n",
       "==============================================================================\n",
       "Dep. Variable:                      y   R-squared:                       0.750\n",
       "Model:                            OLS   Adj. R-squared:                  0.747\n",
       "Method:                 Least Squares   F-statistic:                     264.3\n",
       "Date:                Tue, 19 Apr 2016   Prob (F-statistic):           3.05e-28\n",
       "Time:                        14:36:29   Log-Likelihood:                 11.757\n",
       "No. Observations:                  89   AIC:                            -21.51\n",
       "Df Residuals:                      88   BIC:                            -19.02\n",
       "Df Model:                           1                                         \n",
       "Covariance Type:            nonrobust                                         \n",
       "==============================================================================\n",
       "                 coef    std err          t      P>|t|      [95.0% Conf. Int.]\n",
       "------------------------------------------------------------------------------\n",
       "x1             0.0339      0.002     16.256      0.000         0.030     0.038\n",
       "==============================================================================\n",
       "Omnibus:                       12.328   Durbin-Watson:                   2.305\n",
       "Prob(Omnibus):                  0.002   Jarque-Bera (JB):               14.062\n",
       "Skew:                           0.739   Prob(JB):                     0.000884\n",
       "Kurtosis:                       4.268   Cond. No.                         1.00\n",
       "==============================================================================\n",
       "\n",
       "Warnings:\n",
       "[1] Standard Errors assume that the covariance matrix of the errors is correctly specified.\n",
       "\"\"\""
      ]
     },
     "execution_count": 15,
     "metadata": {},
     "output_type": "execute_result"
    }
   ],
   "source": [
    "regress_linear_p = sm.OLS(Yp, X, missing='drop').fit() # This is for a simple linear model OLS fit\n",
    "regress_linear_p.summary()"
   ]
  },
  {
   "cell_type": "code",
   "execution_count": 16,
   "metadata": {
    "collapsed": false
   },
   "outputs": [
    {
     "data": {
      "text/html": [
       "<table class=\"simpletable\">\n",
       "<caption>OLS Regression Results</caption>\n",
       "<tr>\n",
       "  <th>Dep. Variable:</th>            <td>y</td>        <th>  R-squared:         </th> <td>   0.788</td>\n",
       "</tr>\n",
       "<tr>\n",
       "  <th>Model:</th>                   <td>OLS</td>       <th>  Adj. R-squared:    </th> <td>   0.786</td>\n",
       "</tr>\n",
       "<tr>\n",
       "  <th>Method:</th>             <td>Least Squares</td>  <th>  F-statistic:       </th> <td>   327.1</td>\n",
       "</tr>\n",
       "<tr>\n",
       "  <th>Date:</th>             <td>Tue, 19 Apr 2016</td> <th>  Prob (F-statistic):</th> <td>2.19e-31</td>\n",
       "</tr>\n",
       "<tr>\n",
       "  <th>Time:</th>                 <td>14:36:29</td>     <th>  Log-Likelihood:    </th> <td>  59.805</td>\n",
       "</tr>\n",
       "<tr>\n",
       "  <th>No. Observations:</th>      <td>    89</td>      <th>  AIC:               </th> <td>  -117.6</td>\n",
       "</tr>\n",
       "<tr>\n",
       "  <th>Df Residuals:</th>          <td>    88</td>      <th>  BIC:               </th> <td>  -115.1</td>\n",
       "</tr>\n",
       "<tr>\n",
       "  <th>Df Model:</th>              <td>     1</td>      <th>                     </th>     <td> </td>   \n",
       "</tr>\n",
       "<tr>\n",
       "  <th>Covariance Type:</th>      <td>nonrobust</td>    <th>                     </th>     <td> </td>   \n",
       "</tr>\n",
       "</table>\n",
       "<table class=\"simpletable\">\n",
       "<tr>\n",
       "   <td></td>     <th>coef</th>     <th>std err</th>      <th>t</th>      <th>P>|t|</th> <th>[95.0% Conf. Int.]</th> \n",
       "</tr>\n",
       "<tr>\n",
       "  <th>x1</th> <td>    0.0220</td> <td>    0.001</td> <td>   18.085</td> <td> 0.000</td> <td>    0.020     0.024</td>\n",
       "</tr>\n",
       "</table>\n",
       "<table class=\"simpletable\">\n",
       "<tr>\n",
       "  <th>Omnibus:</th>       <td>12.591</td> <th>  Durbin-Watson:     </th> <td>   1.927</td>\n",
       "</tr>\n",
       "<tr>\n",
       "  <th>Prob(Omnibus):</th> <td> 0.002</td> <th>  Jarque-Bera (JB):  </th> <td>  14.002</td>\n",
       "</tr>\n",
       "<tr>\n",
       "  <th>Skew:</th>          <td> 0.776</td> <th>  Prob(JB):          </th> <td>0.000911</td>\n",
       "</tr>\n",
       "<tr>\n",
       "  <th>Kurtosis:</th>      <td> 4.168</td> <th>  Cond. No.          </th> <td>    1.00</td>\n",
       "</tr>\n",
       "</table>"
      ],
      "text/plain": [
       "<class 'statsmodels.iolib.summary.Summary'>\n",
       "\"\"\"\n",
       "                            OLS Regression Results                            \n",
       "==============================================================================\n",
       "Dep. Variable:                      y   R-squared:                       0.788\n",
       "Model:                            OLS   Adj. R-squared:                  0.786\n",
       "Method:                 Least Squares   F-statistic:                     327.1\n",
       "Date:                Tue, 19 Apr 2016   Prob (F-statistic):           2.19e-31\n",
       "Time:                        14:36:29   Log-Likelihood:                 59.805\n",
       "No. Observations:                  89   AIC:                            -117.6\n",
       "Df Residuals:                      88   BIC:                            -115.1\n",
       "Df Model:                           1                                         \n",
       "Covariance Type:            nonrobust                                         \n",
       "==============================================================================\n",
       "                 coef    std err          t      P>|t|      [95.0% Conf. Int.]\n",
       "------------------------------------------------------------------------------\n",
       "x1             0.0220      0.001     18.085      0.000         0.020     0.024\n",
       "==============================================================================\n",
       "Omnibus:                       12.591   Durbin-Watson:                   1.927\n",
       "Prob(Omnibus):                  0.002   Jarque-Bera (JB):               14.002\n",
       "Skew:                           0.776   Prob(JB):                     0.000911\n",
       "Kurtosis:                       4.168   Cond. No.                         1.00\n",
       "==============================================================================\n",
       "\n",
       "Warnings:\n",
       "[1] Standard Errors assume that the covariance matrix of the errors is correctly specified.\n",
       "\"\"\""
      ]
     },
     "execution_count": 16,
     "metadata": {},
     "output_type": "execute_result"
    }
   ],
   "source": [
    "regress_linear_r = sm.OLS(Yr, X, missing='drop').fit() # This is for a simple linear model OLS fit\n",
    "regress_linear_r.summary()"
   ]
  },
  {
   "cell_type": "code",
   "execution_count": 17,
   "metadata": {
    "collapsed": false
   },
   "outputs": [
    {
     "name": "stdout",
     "output_type": "stream",
     "text": [
      "[ 0.03389196]\n",
      "[ 0.0219745]\n"
     ]
    }
   ],
   "source": [
    "print(regress_linear_p.params)\n",
    "print(regress_linear_r.params)"
   ]
  },
  {
   "cell_type": "code",
   "execution_count": 18,
   "metadata": {
    "collapsed": true
   },
   "outputs": [],
   "source": [
    "y_hat_lin_p = x_grid * regress_linear_p.params\n",
    "y_hat_lin_r = x_grid * regress_linear_r.params"
   ]
  },
  {
   "cell_type": "markdown",
   "metadata": {},
   "source": [
    "## Piecewise linear regression"
   ]
  },
  {
   "cell_type": "code",
   "execution_count": 19,
   "metadata": {
    "collapsed": true
   },
   "outputs": [],
   "source": [
    "def linear(x, a, b):\n",
    "    y2 = a + b*x\n",
    "    return y2\n",
    "def piecewise_linear(x, Theta, a, b):\n",
    "    return np.piecewise(x, [x <= Theta, x > Theta ], [lambda x:a*x, lambda x:a*x + b*(x-Theta)])"
   ]
  },
  {
   "cell_type": "code",
   "execution_count": 20,
   "metadata": {
    "collapsed": false
   },
   "outputs": [],
   "source": [
    "popt_p, pcov_lin_p = sp.optimize.curve_fit(piecewise_linear, np.array(X), np.array(Yp)) # input needs np.array\n",
    "popt_r, pcov_lin_r = sp.optimize.curve_fit(piecewise_linear, np.array(X), np.array(Yr)) # input needs np.array"
   ]
  },
  {
   "cell_type": "code",
   "execution_count": 21,
   "metadata": {
    "collapsed": false
   },
   "outputs": [
    {
     "name": "stdout",
     "output_type": "stream",
     "text": [
      "[ 5.7500001   0.07375213 -0.06517851]\n",
      "[ 0.65734648  0.1768411  -0.16247625]\n"
     ]
    }
   ],
   "source": [
    "print(popt_p)\n",
    "print(popt_r)"
   ]
  },
  {
   "cell_type": "code",
   "execution_count": 22,
   "metadata": {
    "collapsed": true
   },
   "outputs": [],
   "source": [
    "y_hat_plin_p = piecewise_linear(x_grid, popt_p[0], popt_p[1], popt_p[2])\n",
    "y_hat_plin_r = piecewise_linear(x_grid, popt_r[0], popt_r[1], popt_r[2])"
   ]
  },
  {
   "cell_type": "markdown",
   "metadata": {},
   "source": [
    "### Statistics for piecewise"
   ]
  },
  {
   "cell_type": "code",
   "execution_count": 23,
   "metadata": {
    "collapsed": false
   },
   "outputs": [],
   "source": [
    "#type(XY)"
   ]
  },
  {
   "cell_type": "code",
   "execution_count": 24,
   "metadata": {
    "collapsed": false,
    "scrolled": true
   },
   "outputs": [],
   "source": [
    "#res = ols(formula='XY ~ ', data=).fit()"
   ]
  },
  {
   "cell_type": "markdown",
   "metadata": {},
   "source": [
    "## Non-parametric fit"
   ]
  },
  {
   "cell_type": "code",
   "execution_count": 25,
   "metadata": {
    "collapsed": true
   },
   "outputs": [],
   "source": [
    "import pyqt_fit.nonparam_regression as smooth\n",
    "from pyqt_fit import npr_methods"
   ]
  },
  {
   "cell_type": "code",
   "execution_count": 26,
   "metadata": {
    "collapsed": false
   },
   "outputs": [],
   "source": [
    "k0_p = smooth.NonParamRegression(X, Yp, method=npr_methods.LocalPolynomialKernel(q=1))\n",
    "k0_p.fit()\n",
    "k0_r = smooth.NonParamRegression(X, Yr, method=npr_methods.LocalPolynomialKernel(q=1))\n",
    "k0_r.fit()"
   ]
  },
  {
   "cell_type": "markdown",
   "metadata": {},
   "source": [
    "# Interpolate data for \"missing countries\""
   ]
  },
  {
   "cell_type": "code",
   "execution_count": 27,
   "metadata": {
    "collapsed": false
   },
   "outputs": [
    {
     "data": {
      "text/html": [
       "<div>\n",
       "<table border=\"1\" class=\"dataframe\">\n",
       "  <thead>\n",
       "    <tr style=\"text-align: right;\">\n",
       "      <th></th>\n",
       "      <th>social_p cont. lin. est. from ILO</th>\n",
       "      <th>social_r cont. lin. est. from ILO</th>\n",
       "      <th>social_p piecewise lin. est. from ILO</th>\n",
       "      <th>social_r piecewise lin. est. from ILO</th>\n",
       "    </tr>\n",
       "    <tr>\n",
       "      <th>country</th>\n",
       "      <th></th>\n",
       "      <th></th>\n",
       "      <th></th>\n",
       "      <th></th>\n",
       "    </tr>\n",
       "  </thead>\n",
       "  <tbody>\n",
       "    <tr>\n",
       "      <th>Afghanistan</th>\n",
       "      <td>0.067445</td>\n",
       "      <td>0.043729</td>\n",
       "      <td>0.146767</td>\n",
       "      <td>0.135389</td>\n",
       "    </tr>\n",
       "    <tr>\n",
       "      <th>Algeria</th>\n",
       "      <td>0.181661</td>\n",
       "      <td>0.117783</td>\n",
       "      <td>0.395311</td>\n",
       "      <td>0.183799</td>\n",
       "    </tr>\n",
       "    <tr>\n",
       "      <th>Angola</th>\n",
       "      <td>0.157259</td>\n",
       "      <td>0.101962</td>\n",
       "      <td>0.342210</td>\n",
       "      <td>0.173456</td>\n",
       "    </tr>\n",
       "  </tbody>\n",
       "</table>\n",
       "</div>"
      ],
      "text/plain": [
       "             social_p cont. lin. est. from ILO  \\\n",
       "country                                          \n",
       "Afghanistan                           0.067445   \n",
       "Algeria                               0.181661   \n",
       "Angola                                0.157259   \n",
       "\n",
       "             social_r cont. lin. est. from ILO  \\\n",
       "country                                          \n",
       "Afghanistan                           0.043729   \n",
       "Algeria                               0.117783   \n",
       "Angola                                0.101962   \n",
       "\n",
       "             social_p piecewise lin. est. from ILO  \\\n",
       "country                                              \n",
       "Afghanistan                               0.146767   \n",
       "Algeria                                   0.395311   \n",
       "Angola                                    0.342210   \n",
       "\n",
       "             social_r piecewise lin. est. from ILO  \n",
       "country                                             \n",
       "Afghanistan                               0.135389  \n",
       "Algeria                                   0.183799  \n",
       "Angola                                    0.173456  "
      ]
     },
     "execution_count": 27,
     "metadata": {},
     "output_type": "execute_result"
    }
   ],
   "source": [
    "country_diff = ILO_data.index.difference(df_socprot.index)\n",
    "df_socprot_missing = pd.DataFrame(ILO_data.loc[country_diff], index=country_diff)\n",
    "\n",
    "# With the cont linear function:\n",
    "df_socprot_missing['social_p cont. lin. est. from ILO'] = df_socprot_missing['Public social protection (% GDP)'].values * regress_linear_p.params\n",
    "df_socprot_missing['social_r cont. lin. est. from ILO'] = df_socprot_missing['Public social protection (% GDP)'].values * regress_linear_r.params\n",
    "\n",
    "# With the piecewise function:\n",
    "df_socprot_missing['social_p piecewise lin. est. from ILO'] = piecewise_linear(df_socprot_missing['Public social protection (% GDP)'].values, popt_p[0], popt_p[1], popt_p[2])\n",
    "df_socprot_missing['social_r piecewise lin. est. from ILO'] = piecewise_linear(df_socprot_missing['Public social protection (% GDP)'].values, popt_r[0], popt_r[1], popt_r[2])\n",
    "\n",
    "# Drop columns which are non social_p or social_r\n",
    "df_socprot_missing.drop(['Total public social protection expenditure and health expenditure (% GDP)'], axis=1, inplace=True)\n",
    "df_socprot_missing.drop(['Public health care (% GDP)'], axis=1, inplace=True)\n",
    "df_socprot_missing.drop(['Public social protection (% GDP)'], axis=1, inplace=True)\n",
    "df_socprot_missing.drop(['year'], axis=1, inplace=True)\n",
    "df_socprot_missing.drop(['sanity'], axis=1, inplace=True)\n",
    "\n",
    "df_socprot_missing.head(3)"
   ]
  },
  {
   "cell_type": "code",
   "execution_count": 28,
   "metadata": {
    "collapsed": false
   },
   "outputs": [
    {
     "data": {
      "text/html": [
       "<div>\n",
       "<table border=\"1\" class=\"dataframe\">\n",
       "  <thead>\n",
       "    <tr style=\"text-align: right;\">\n",
       "      <th></th>\n",
       "      <th>social_p cont. lin. est. from ILO</th>\n",
       "      <th>social_r cont. lin. est. from ILO</th>\n",
       "      <th>social_p piecewise lin. est. from ILO</th>\n",
       "      <th>social_r piecewise lin. est. from ILO</th>\n",
       "    </tr>\n",
       "    <tr>\n",
       "      <th>country</th>\n",
       "      <th></th>\n",
       "      <th></th>\n",
       "      <th></th>\n",
       "      <th></th>\n",
       "    </tr>\n",
       "  </thead>\n",
       "  <tbody>\n",
       "    <tr>\n",
       "      <th>Afghanistan</th>\n",
       "      <td>0.067445</td>\n",
       "      <td>0.043729</td>\n",
       "      <td>0.146767</td>\n",
       "      <td>0.135389</td>\n",
       "    </tr>\n",
       "    <tr>\n",
       "      <th>Algeria</th>\n",
       "      <td>0.181661</td>\n",
       "      <td>0.117783</td>\n",
       "      <td>0.395311</td>\n",
       "      <td>0.183799</td>\n",
       "    </tr>\n",
       "    <tr>\n",
       "      <th>Angola</th>\n",
       "      <td>0.157259</td>\n",
       "      <td>0.101962</td>\n",
       "      <td>0.342210</td>\n",
       "      <td>0.173456</td>\n",
       "    </tr>\n",
       "    <tr>\n",
       "      <th>Antigua and Barbuda</th>\n",
       "      <td>0.103370</td>\n",
       "      <td>0.067022</td>\n",
       "      <td>0.224944</td>\n",
       "      <td>0.150616</td>\n",
       "    </tr>\n",
       "    <tr>\n",
       "      <th>Aruba</th>\n",
       "      <td>0.277914</td>\n",
       "      <td>0.180191</td>\n",
       "      <td>0.445080</td>\n",
       "      <td>0.224595</td>\n",
       "    </tr>\n",
       "  </tbody>\n",
       "</table>\n",
       "</div>"
      ],
      "text/plain": [
       "                     social_p cont. lin. est. from ILO  \\\n",
       "country                                                  \n",
       "Afghanistan                                   0.067445   \n",
       "Algeria                                       0.181661   \n",
       "Angola                                        0.157259   \n",
       "Antigua and Barbuda                           0.103370   \n",
       "Aruba                                         0.277914   \n",
       "\n",
       "                     social_r cont. lin. est. from ILO  \\\n",
       "country                                                  \n",
       "Afghanistan                                   0.043729   \n",
       "Algeria                                       0.117783   \n",
       "Angola                                        0.101962   \n",
       "Antigua and Barbuda                           0.067022   \n",
       "Aruba                                         0.180191   \n",
       "\n",
       "                     social_p piecewise lin. est. from ILO  \\\n",
       "country                                                      \n",
       "Afghanistan                                       0.146767   \n",
       "Algeria                                           0.395311   \n",
       "Angola                                            0.342210   \n",
       "Antigua and Barbuda                               0.224944   \n",
       "Aruba                                             0.445080   \n",
       "\n",
       "                     social_r piecewise lin. est. from ILO  \n",
       "country                                                     \n",
       "Afghanistan                                       0.135389  \n",
       "Algeria                                           0.183799  \n",
       "Angola                                            0.173456  \n",
       "Antigua and Barbuda                               0.150616  \n",
       "Aruba                                             0.224595  "
      ]
     },
     "execution_count": 28,
     "metadata": {},
     "output_type": "execute_result"
    }
   ],
   "source": [
    "df_socprot_missing.head(5)"
   ]
  },
  {
   "cell_type": "markdown",
   "metadata": {},
   "source": [
    "Save the output"
   ]
  },
  {
   "cell_type": "code",
   "execution_count": 29,
   "metadata": {
    "collapsed": true
   },
   "outputs": [],
   "source": [
    "df_socprot_missing.to_csv('output/missing_countries_estimation.csv', encoding = 'utf-8')"
   ]
  },
  {
   "cell_type": "code",
   "execution_count": 30,
   "metadata": {
    "collapsed": false
   },
   "outputs": [
    {
     "ename": "NameError",
     "evalue": "name 'df_socprot_interp' is not defined",
     "output_type": "error",
     "traceback": [
      "\u001b[0;31m---------------------------------------------------------------------------\u001b[0m",
      "\u001b[0;31mNameError\u001b[0m                                 Traceback (most recent call last)",
      "\u001b[0;32m<ipython-input-30-e57ccde3b7cd>\u001b[0m in \u001b[0;36m<module>\u001b[0;34m()\u001b[0m\n\u001b[0;32m----> 1\u001b[0;31m \u001b[0mdf_socprot_new\u001b[0m \u001b[0;34m=\u001b[0m \u001b[0mdf_socprot\u001b[0m\u001b[0;34m.\u001b[0m\u001b[0mappend\u001b[0m\u001b[0;34m(\u001b[0m\u001b[0mdf_socprot_interp\u001b[0m\u001b[0;34m)\u001b[0m\u001b[0;34m\u001b[0m\u001b[0m\n\u001b[0m\u001b[1;32m      2\u001b[0m \u001b[0mdf_socprot_new\u001b[0m\u001b[0;34m.\u001b[0m\u001b[0mhead\u001b[0m\u001b[0;34m(\u001b[0m\u001b[0;36m2\u001b[0m\u001b[0;34m)\u001b[0m\u001b[0;34m\u001b[0m\u001b[0m\n",
      "\u001b[0;31mNameError\u001b[0m: name 'df_socprot_interp' is not defined"
     ]
    }
   ],
   "source": [
    "df_socprot_new = df_socprot.append(df_socprot_interp)\n",
    "df_socprot_new.head(2)"
   ]
  },
  {
   "cell_type": "code",
   "execution_count": null,
   "metadata": {
    "collapsed": true
   },
   "outputs": [],
   "source": [
    "df_socprot_new.to_csv('output/all_countries_estimation.csv', encoding = 'utf-8')"
   ]
  },
  {
   "cell_type": "markdown",
   "metadata": {},
   "source": [
    "## Plot the regression"
   ]
  },
  {
   "cell_type": "code",
   "execution_count": null,
   "metadata": {
    "collapsed": false
   },
   "outputs": [],
   "source": []
  },
  {
   "cell_type": "code",
   "execution_count": null,
   "metadata": {
    "collapsed": false
   },
   "outputs": [],
   "source": [
    "# For labelling:\n",
    "mylist_p  =['Afghanistan', 'Albania', 'Algeria', 'Angola', 'Antigua and Barbuda', 'Argentina', 'Armenia', 'Aruba',\n",
    "       'Asia and the Middle East', 'Australia', 'Azerbaijan', 'Bahamas, The', 'Bahrain', 'Bangladesh', 'Barbados',\n",
    "       'Belarus', 'Belgium', 'Belize', 'Bhutan', 'Bolivia', 'Brazil', 'Brunei Darussalam','Bulgaria', 'Burundi',\n",
    "       'Cameroon', 'Cape Verde', 'Central African Republic', 'Chad', 'Chile', 'China', 'Colombia', 'Cook Islands',\n",
    "       'Costa Rica', \"Cote d'Ivoire\", 'Cuba', 'Cyprus', 'Czech Republic', 'Denmark', 'Djibouti', 'Dominica',\n",
    "       'Ecuador', 'Egypt, Arab Rep.', 'Equatorial Guinea', 'Eritrea', 'Estonia', 'Ethiopia',\n",
    "       'Fiji', 'Finland', 'France', 'Gabon', 'Gambia, The', 'Georgia',\n",
    "       'Ghana', 'Grenada', 'Guinea', 'Guinea-Bissau', 'Guyana', 'Haiti', 'Honduras',\n",
    "       'Hong Kong SAR, China', 'Hungary', 'Iceland', 'India', 'Indonesia',\n",
    "       'Iran, Islamic Rep.', 'Iraq', 'Ireland', 'Israel', 'Italy','Japan', 'Jordan', 'Kazakhstan', 'Kiribati',\n",
    "       'Korea, Rep.', 'Kosovo', 'Kuwait', 'Lebanon', 'Lesotho',\n",
    "       'Liberia', 'Libya', 'Lithuania', 'Luxembourg', 'Macao SAR, China',\n",
    "       'Macedonia, FYR', 'Maldives', 'Mali', 'Malta', 'Marshall Islands', 'Mauritania', 'Mauritius',\n",
    "       'Mexico', 'Moldova', 'Mongolia', 'Montenegro', 'Morocco', 'Mozambique', 'Myanmar', 'Namibia', 'Nauru',\n",
    "       'Nepal', 'Netherlands', 'New Zealand', 'Nicaragua', 'Nigeria', 'North America',\n",
    "       'Norway', 'Oceania', 'Oman', 'Palau', 'Panama','Papua New Guinea', 'Peru', 'Philippines', 'Poland',\n",
    "       'Portugal', 'Qatar', 'Romania', 'Russian Federation', 'Samoa', 'San Marino', 'Saudi Arabia', 'Serbia',\n",
    "       'Seychelles', 'Singapore', 'Solomon Islands', 'South Africa', 'Spain', 'Sri Lanka',\n",
    "       'Sudan', 'Swaziland', 'Sweden', 'Switzerland', 'São Tomé and Príncipe',\n",
    "       'Taiwan', 'Tajikistan', 'Timor-Leste', 'Togo', 'Tonga', 'Trinidad and Tobago', 'Tunisia', 'Turkey',\n",
    "       'Tuvalu', 'Uganda', 'United Arab Emirates', 'United Kingdom', 'United States', 'Uzbekistan',\n",
    "       'Vanuatu', 'Venezuela, RB', 'Vietnam', 'Zimbabwe']"
   ]
  },
  {
   "cell_type": "code",
   "execution_count": null,
   "metadata": {
    "collapsed": true
   },
   "outputs": [],
   "source": [
    "# For labelling\n",
    "mylist_r  =['Afghanistan', 'Albania', 'Algeria', 'Angola', 'Antigua and Barbuda', 'Argentina', 'Armenia', 'Aruba',\n",
    "       'Asia and the Middle East', 'Australia', 'Azerbaijan', 'Bahamas, The', 'Bahrain', 'Bangladesh', 'Barbados',\n",
    "       'Belarus', 'Belgium', 'Belize', 'Bhutan', 'Bolivia', 'Brazil', 'Brunei Darussalam','Bulgaria', 'Burkina Faso',\n",
    "       'Burundi', 'Cameroon', 'Cape Verde', 'Central African Republic', 'Chad', 'Chile', 'China', 'Colombia',\n",
    "       'Cook Islands', 'Costa Rica', \"Cote d'Ivoire\", 'Cuba', 'Cyprus', 'Czech Republic', 'Denmark', 'Djibouti',\n",
    "       'Dominica', 'Ecuador', 'Egypt, Arab Rep.', 'Equatorial Guinea', 'Eritrea', 'Estonia', 'Ethiopia',\n",
    "       'Fiji', 'Finland', 'France', 'Gabon', 'Gambia, The', 'Georgia',\n",
    "       'Ghana', 'Grenada', 'Guinea', 'Guinea-Bissau', 'Guyana', 'Haiti', 'Honduras',\n",
    "       'Hong Kong SAR, China', 'Hungary', 'Iceland', 'India', 'Indonesia',\n",
    "       'Iran, Islamic Rep.', 'Iraq', 'Ireland', 'Israel', 'Italy','Japan', 'Jordan', 'Kazakhstan', 'Kiribati',\n",
    "       'Korea, Rep.', 'Kosovo', 'Kuwait', 'Kyrgyz Republic', 'Lebanon', 'Lesotho',\n",
    "       'Liberia', 'Libya', 'Lithuania', 'Luxembourg', 'Macao SAR, China',\n",
    "       'Macedonia, FYR', 'Maldives', 'Mali', 'Malta', 'Marshall Islands', 'Mauritania', 'Mauritius',\n",
    "       'Mexico', 'Moldova', 'Mongolia', 'Montenegro', 'Morocco', 'Mozambique', 'Myanmar', 'Namibia', 'Nauru',\n",
    "       'Nepal', 'Netherlands', 'New Zealand', 'Nicaragua', 'Nigeria', 'North America',\n",
    "       'Norway', 'Oceania', 'Oman', 'Palau', 'Panama','Papua New Guinea', 'Peru', 'Philippines', 'Poland',\n",
    "       'Portugal', 'Qatar', 'Romania', 'Russian Federation', 'Samoa', 'San Marino', 'Saudi Arabia', 'Serbia',\n",
    "       'Seychelles', 'Singapore', 'Solomon Islands', 'South Africa', 'Spain', 'Sri Lanka',\n",
    "       'Sudan', 'Swaziland', 'Sweden', 'Switzerland', 'São Tomé and Príncipe',\n",
    "       'Taiwan', 'Tajikistan', 'Thailand', 'Timor-Leste', 'Togo', 'Tonga', 'Trinidad and Tobago', 'Tunisia', 'Turkey',\n",
    "       'Tuvalu', 'Uganda', 'United Arab Emirates', 'United Kingdom', 'United States', 'Uzbekistan',\n",
    "       'Vanuatu', 'Venezuela, RB', 'Vietnam', 'Zimbabwe']"
   ]
  },
  {
   "cell_type": "code",
   "execution_count": null,
   "metadata": {
    "collapsed": false
   },
   "outputs": [],
   "source": [
    "df_socprot_missing['social_p cont. lin. est. from ILO']"
   ]
  },
  {
   "cell_type": "code",
   "execution_count": null,
   "metadata": {
    "collapsed": false,
    "scrolled": true
   },
   "outputs": [],
   "source": [
    "fig1 = plt.figure(figsize=[12,9])\n",
    "plt.scatter(df_plot['Public social protection (% GDP)'], df_plot['social_p'], color='r', clip_on=False)\n",
    "\n",
    "for k in df_plot.index.values:\n",
    "    plt.annotate(xy = [df_plot.loc[k,'Public social protection (% GDP)'], df_plot.loc[k,'social_p']], s=k, xycoords='data')\n",
    "\n",
    "plt.plot(ILO_data.loc[country_diff]['Public social protection (% GDP)'],\n",
    "         df_socprot_missing['social_p cont. lin. est. from ILO'], 'kx', mew=2, ms=10)\n",
    "\n",
    "plt.plot(x_grid, y_hat_lin_p, label=\"Linear\", color = 'k', ls = '-', linewidth=2)\n",
    "plt.plot(x_grid, y_hat_plin_p, label=\"Piecewise linear\", color = 'g', ls = '-', linewidth=2)\n",
    "plt.plot(x_grid, k0_p(x_grid), label=\"Nonparam., locally linear\", color = 'blue', ls = '--', linewidth=2)\n",
    "\n",
    "\n",
    "plt.xlabel('ILO Public Social Protection w/o healthcare (% GDP)')\n",
    "plt.ylabel('ASPIRE social protection')\n",
    "plt.xlim(0)\n",
    "plt.ylim([0,1])\n",
    "plt.legend()\n",
    "\n",
    "plt.savefig('output/social_p.pdf', type='pdf')"
   ]
  },
  {
   "cell_type": "code",
   "execution_count": null,
   "metadata": {
    "collapsed": false
   },
   "outputs": [],
   "source": [
    "fig1 = plt.figure(figsize=[12,9])\n",
    "plt.scatter(df_plot['Public social protection (% GDP)'], df_plot['social_r'], color='red', marker='x', clip_on=False)\n",
    "\n",
    "#for k in df_plot.index:\n",
    "for k in df_plot.index.values:\n",
    "    plt.annotate(xy = [df_plot.loc[k,'Public social protection (% GDP)'], df_plot.loc[k,'social_r']], s=k,\n",
    "                 xycoords='data')\n",
    "\n",
    "plt.plot(ILO_data.loc[country_diff]['Public social protection (% GDP)'],\n",
    "         df_socprot_missing['social_r cont. lin. est. from ILO'], 'kx', mew=2, ms=10)\n",
    "    \n",
    "plt.plot(x_grid, y_hat_lin_r, label=\"Linear\", color = 'k', ls = '-', linewidth=2)\n",
    "plt.plot(x_grid, y_hat_plin_r, label=\"Piecewise linear\", color = 'g', ls = '-', linewidth=2)\n",
    "plt.plot(x_grid, k0_r(x_grid), label=\"Nonparam., locally linear\", color = 'blue', ls = '--', linewidth=2)\n",
    "\n",
    "\n",
    "plt.xlabel('ILO Public Social Protection w/o healthcare (% GDP)')\n",
    "plt.ylabel('ASPIRE social protection')\n",
    "plt.xlim(0)\n",
    "plt.ylim([0,1])\n",
    "plt.legend()\n",
    "\n",
    "plt.savefig('output/social_r.pdf', type='pdf')"
   ]
  },
  {
   "cell_type": "code",
   "execution_count": null,
   "metadata": {
    "collapsed": false
   },
   "outputs": [],
   "source": [
    "#%matplotlib qt"
   ]
  },
  {
   "cell_type": "code",
   "execution_count": null,
   "metadata": {
    "collapsed": true
   },
   "outputs": [],
   "source": []
  }
 ],
 "metadata": {
  "kernelspec": {
   "display_name": "Python 3",
   "language": "python",
   "name": "python3"
  },
  "language_info": {
   "codemirror_mode": {
    "name": "ipython",
    "version": 3
   },
   "file_extension": ".py",
   "mimetype": "text/x-python",
   "name": "python",
   "nbconvert_exporter": "python",
   "pygments_lexer": "ipython3",
   "version": "3.5.1"
  }
 },
 "nbformat": 4,
 "nbformat_minor": 0
}
