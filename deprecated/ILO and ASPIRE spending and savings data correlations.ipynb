{
 "cells": [
  {
   "cell_type": "markdown",
   "metadata": {},
   "source": [
    "# Look at the relationship between ILO and ASPIRE savings data"
   ]
  },
  {
   "cell_type": "code",
   "execution_count": 1,
   "metadata": {
    "collapsed": false,
    "scrolled": true
   },
   "outputs": [],
   "source": [
    "import numpy as np\n",
    "import pandas as pd\n",
    "import scipy as sp\n",
    "import statsmodels.api as sm\n",
    "import statsmodels.formula.api as smf\n",
    "from statsmodels.formula.api import ols"
   ]
  },
  {
   "cell_type": "code",
   "execution_count": 2,
   "metadata": {
    "collapsed": true
   },
   "outputs": [],
   "source": [
    "# WB api wrapper\n",
    "import sys\n",
    "sys.path.insert(0, '../git/wb_api_wrapper')\n",
    "from wb_api_wrapper import mrv"
   ]
  },
  {
   "cell_type": "code",
   "execution_count": 3,
   "metadata": {
    "collapsed": true
   },
   "outputs": [],
   "source": [
    "# Import plotting routines\n",
    "%matplotlib inline\n",
    "import matplotlib.pyplot as plt\n",
    "import matplotlib\n",
    "matplotlib.style.use('ggplot')"
   ]
  },
  {
   "cell_type": "code",
   "execution_count": 4,
   "metadata": {
    "collapsed": true
   },
   "outputs": [],
   "source": [
    "any_name_to_wb_name = pd.read_csv(\"../git/country_names/out/any_name_to_wb_name.csv\",index_col=\"any\",squeeze=True, encoding=\"utf-8\")"
   ]
  },
  {
   "cell_type": "markdown",
   "metadata": {},
   "source": [
    "## Open the ILO data bases"
   ]
  },
  {
   "cell_type": "code",
   "execution_count": 5,
   "metadata": {
    "collapsed": false
   },
   "outputs": [],
   "source": [
    "ILO_data = pd.read_csv('ILO/ILO.csv', index_col=0, encoding='utf-8')\n",
    "ILO_data.index=(ILO_data.index.str.strip()) # Deletes white spaces at the end of the index entries in the ILO index\n",
    "ILO_data.sort_index().head(12) # Correct flaws in the ILO data\n",
    "ILO_data = ILO_data.rename(index=any_name_to_wb_name) # This is a sweet one-line command to rename the index using a dictionary-like translation, which in this case is any_name_to_wb_name\n",
    "#ILO_data.index"
   ]
  },
  {
   "cell_type": "code",
   "execution_count": 6,
   "metadata": {
    "collapsed": false,
    "scrolled": true
   },
   "outputs": [
    {
     "data": {
      "text/html": [
       "<div>\n",
       "<table border=\"1\" class=\"dataframe\">\n",
       "  <thead>\n",
       "    <tr style=\"text-align: right;\">\n",
       "      <th></th>\n",
       "      <th>Total public social protection expenditure and health expenditure</th>\n",
       "      <th>Public health care</th>\n",
       "      <th>Public social protection</th>\n",
       "      <th>year</th>\n",
       "      <th>sanity</th>\n",
       "    </tr>\n",
       "    <tr>\n",
       "      <th>country</th>\n",
       "      <th></th>\n",
       "      <th></th>\n",
       "      <th></th>\n",
       "      <th></th>\n",
       "      <th></th>\n",
       "    </tr>\n",
       "  </thead>\n",
       "  <tbody>\n",
       "    <tr>\n",
       "      <th>Algeria</th>\n",
       "      <td>8.53</td>\n",
       "      <td>3.17</td>\n",
       "      <td>5.36</td>\n",
       "      <td>2011</td>\n",
       "      <td>0</td>\n",
       "    </tr>\n",
       "    <tr>\n",
       "      <th>Angola</th>\n",
       "      <td>6.79</td>\n",
       "      <td>2.15</td>\n",
       "      <td>4.64</td>\n",
       "      <td>2011</td>\n",
       "      <td>0</td>\n",
       "    </tr>\n",
       "    <tr>\n",
       "      <th>Benin</th>\n",
       "      <td>4.2</td>\n",
       "      <td>2.22</td>\n",
       "      <td>1.98</td>\n",
       "      <td>2010</td>\n",
       "      <td>0</td>\n",
       "    </tr>\n",
       "  </tbody>\n",
       "</table>\n",
       "</div>"
      ],
      "text/plain": [
       "        Total public social protection expenditure and health expenditure  \\\n",
       "country                                                                     \n",
       "Algeria                                               8.53                  \n",
       "Angola                                                6.79                  \n",
       "Benin                                                  4.2                  \n",
       "\n",
       "         Public health care Public social protection  year sanity  \n",
       "country                                                            \n",
       "Algeria                3.17                     5.36  2011      0  \n",
       "Angola                 2.15                     4.64  2011      0  \n",
       "Benin                  2.22                     1.98  2010      0  "
      ]
     },
     "execution_count": 6,
     "metadata": {},
     "output_type": "execute_result"
    }
   ],
   "source": [
    "ILO_data.head(3)"
   ]
  },
  {
   "cell_type": "markdown",
   "metadata": {},
   "source": [
    "## Read in selected columns of the ASPIRE data"
   ]
  },
  {
   "cell_type": "code",
   "execution_count": 7,
   "metadata": {
    "collapsed": false
   },
   "outputs": [],
   "source": [
    "# !!! The following line may need changes if the ASPIRE input file changes !!!\n",
    "#aspire_data = pd.read_excel('ASPIRE/ASPIRE_key_indicators_table.xlsx',header=[0,1],\n",
    "#                            skiprows=[0,1],skip_footer=219,index_col=[4],\n",
    "#                            encoding='utf-8',na_values=np.nan)\n",
    "        "
   ]
  },
  {
   "cell_type": "code",
   "execution_count": 8,
   "metadata": {
    "collapsed": false
   },
   "outputs": [],
   "source": [
    "# !!! The following line may need changes if the ASPIRE input file changes !!!\n",
    "aspire_data = pd.read_csv('ASPIRE/ASPIRE_key_indicators_table.csv', index_col=4, header=[1,2],\n",
    "                         nrows=216,skip_blank_lines=False,encoding='utf-8', na_values='n.a.')"
   ]
  },
  {
   "cell_type": "code",
   "execution_count": 9,
   "metadata": {
    "collapsed": false
   },
   "outputs": [
    {
     "data": {
      "text/plain": [
       "Index(['Afghanistan', 'Afghanistan', 'Albania', 'Albania', 'Argentina',\n",
       "       'Argentina', 'Argentina', 'Argentina', 'Armenia', 'Armenia',\n",
       "       ...\n",
       "       'Uruguay', 'Uruguay', 'Uruguay', 'Venezuela, RB', 'Vietnam',\n",
       "       'West Bank and Gaza', 'West Bank and Gaza', 'Yemen, Rep.', 'Zambia',\n",
       "       'Zimbabwe'],\n",
       "      dtype='object', length=216)"
      ]
     },
     "execution_count": 9,
     "metadata": {},
     "output_type": "execute_result"
    }
   ],
   "source": [
    "aspire_data.index"
   ]
  },
  {
   "cell_type": "code",
   "execution_count": 10,
   "metadata": {
    "collapsed": false
   },
   "outputs": [],
   "source": [
    "aspire_data.index.rename('Country', inplace=True)"
   ]
  },
  {
   "cell_type": "code",
   "execution_count": 11,
   "metadata": {
    "collapsed": false
   },
   "outputs": [],
   "source": [
    "aspire_data.rename(columns={aspire_data.columns[0]:'Remark'}, inplace=True)\n",
    "aspire_data.rename(columns={aspire_data.columns[1]:'Region'}, inplace=True)\n",
    "aspire_data.rename(columns={aspire_data.columns[2]:'Country Code'}, inplace=True)\n",
    "aspire_data.rename(columns={aspire_data.columns[3]:'Status'}, inplace=True)\n",
    "aspire_data.rename(columns={aspire_data.columns[4]:'Year'}, inplace=True)\n",
    "aspire_data.rename(columns={aspire_data.columns[5]:'Coverage: Poorest quintile'}, inplace=True)\n",
    "aspire_data.rename(columns={aspire_data.columns[6]:'Coverage: Total'}, inplace=True)\n",
    "aspire_data.rename(columns={aspire_data.columns[7]:'Poorest quintile'}, inplace=True)\n",
    "aspire_data.rename(columns={aspire_data.columns[8]:'Poorest quintile: Average transfer amount ($/day per capita, PPP), Total'}, inplace=True)\n",
    "aspire_data.rename(columns={aspire_data.columns[9]:'Adequacy: Poorest quintile'}, inplace=True)\n",
    "aspire_data.rename(columns={aspire_data.columns[10]:'Adequacy: Total'}, inplace=True)\n",
    "aspire_data.rename(columns={aspire_data.columns[11]:'Gini Inequality reduction due to SPL (% of population)'}, inplace=True)\n",
    "aspire_data.rename(columns={aspire_data.columns[12]:'Poverty Headcount reduction due to SPL (% of population)'}, inplace=True)\n",
    "aspire_data.rename(columns={aspire_data.columns[13]:'Poverty Gap reduction due to SPL (% of population)'}, inplace=True)\n",
    "aspire_data.rename(columns={aspire_data.columns[14]:'Benefit- cost ratio of SPL programs'}, inplace=True)\n",
    "aspire_data.drop(aspire_data.columns[15], axis=1, inplace=True)"
   ]
  },
  {
   "cell_type": "code",
   "execution_count": 12,
   "metadata": {
    "collapsed": false
   },
   "outputs": [
    {
     "data": {
      "text/html": [
       "<div>\n",
       "<table border=\"1\" class=\"dataframe\">\n",
       "  <thead>\n",
       "    <tr style=\"text-align: right;\">\n",
       "      <th></th>\n",
       "      <th>Remark</th>\n",
       "      <th>Region</th>\n",
       "      <th>Country Code</th>\n",
       "      <th>Status</th>\n",
       "      <th>Year</th>\n",
       "      <th>Coverage: Poorest quintile</th>\n",
       "      <th>Coverage: Total</th>\n",
       "      <th>Poorest quintile</th>\n",
       "      <th>Poorest quintile: Average transfer amount ($/day per capita, PPP), Total</th>\n",
       "      <th>Adequacy: Poorest quintile</th>\n",
       "      <th>Adequacy: Total</th>\n",
       "      <th>Gini Inequality reduction due to SPL (% of population)</th>\n",
       "      <th>Poverty Headcount reduction due to SPL (% of population)</th>\n",
       "      <th>Poverty Gap reduction due to SPL (% of population)</th>\n",
       "      <th>Benefit- cost ratio of SPL programs</th>\n",
       "    </tr>\n",
       "    <tr>\n",
       "      <th>Country</th>\n",
       "      <th></th>\n",
       "      <th></th>\n",
       "      <th></th>\n",
       "      <th></th>\n",
       "      <th></th>\n",
       "      <th></th>\n",
       "      <th></th>\n",
       "      <th></th>\n",
       "      <th></th>\n",
       "      <th></th>\n",
       "      <th></th>\n",
       "      <th></th>\n",
       "      <th></th>\n",
       "      <th></th>\n",
       "      <th></th>\n",
       "    </tr>\n",
       "  </thead>\n",
       "  <tbody>\n",
       "    <tr>\n",
       "      <th>Afghanistan</th>\n",
       "      <td>NaN</td>\n",
       "      <td>SAR</td>\n",
       "      <td>AFG</td>\n",
       "      <td>Low income</td>\n",
       "      <td>2007</td>\n",
       "      <td>23.75</td>\n",
       "      <td>15.73</td>\n",
       "      <td>5.87</td>\n",
       "      <td>0.07</td>\n",
       "      <td>37.88</td>\n",
       "      <td>22.99</td>\n",
       "      <td>0.08</td>\n",
       "      <td>1.1</td>\n",
       "      <td>2.44</td>\n",
       "      <td>0.14</td>\n",
       "    </tr>\n",
       "    <tr>\n",
       "      <th>Afghanistan</th>\n",
       "      <td>*New survey*</td>\n",
       "      <td>SAR</td>\n",
       "      <td>AFG</td>\n",
       "      <td>Low income</td>\n",
       "      <td>2011</td>\n",
       "      <td>12.47</td>\n",
       "      <td>8.82</td>\n",
       "      <td>NaN</td>\n",
       "      <td>NaN</td>\n",
       "      <td>NaN</td>\n",
       "      <td>NaN</td>\n",
       "      <td>NaN</td>\n",
       "      <td>NaN</td>\n",
       "      <td>NaN</td>\n",
       "      <td>NaN</td>\n",
       "    </tr>\n",
       "    <tr>\n",
       "      <th>Albania</th>\n",
       "      <td>NaN</td>\n",
       "      <td>ECA</td>\n",
       "      <td>ALB</td>\n",
       "      <td>Upper middle income</td>\n",
       "      <td>2008</td>\n",
       "      <td>79.20</td>\n",
       "      <td>67.94</td>\n",
       "      <td>13.15</td>\n",
       "      <td>1.39</td>\n",
       "      <td>27.89</td>\n",
       "      <td>23.99</td>\n",
       "      <td>16.63</td>\n",
       "      <td>42.8</td>\n",
       "      <td>65.43</td>\n",
       "      <td>0.32</td>\n",
       "    </tr>\n",
       "  </tbody>\n",
       "</table>\n",
       "</div>"
      ],
      "text/plain": [
       "                   Remark Region Country Code               Status  Year  \\\n",
       "Country                                                                    \n",
       "Afghanistan           NaN    SAR          AFG           Low income  2007   \n",
       "Afghanistan  *New survey*    SAR          AFG           Low income  2011   \n",
       "Albania               NaN    ECA          ALB  Upper middle income  2008   \n",
       "\n",
       "             Coverage: Poorest quintile  Coverage: Total  Poorest quintile  \\\n",
       "Country                                                                      \n",
       "Afghanistan                       23.75            15.73              5.87   \n",
       "Afghanistan                       12.47             8.82               NaN   \n",
       "Albania                           79.20            67.94             13.15   \n",
       "\n",
       "             Poorest quintile: Average transfer amount ($/day per capita, PPP), Total  \\\n",
       "Country                                                                                 \n",
       "Afghanistan                                               0.07                          \n",
       "Afghanistan                                                NaN                          \n",
       "Albania                                                   1.39                          \n",
       "\n",
       "             Adequacy: Poorest quintile  Adequacy: Total  \\\n",
       "Country                                                    \n",
       "Afghanistan                       37.88            22.99   \n",
       "Afghanistan                         NaN              NaN   \n",
       "Albania                           27.89            23.99   \n",
       "\n",
       "             Gini Inequality reduction due to SPL (% of population)  \\\n",
       "Country                                                               \n",
       "Afghanistan                                               0.08        \n",
       "Afghanistan                                                NaN        \n",
       "Albania                                                  16.63        \n",
       "\n",
       "             Poverty Headcount reduction due to SPL (% of population)  \\\n",
       "Country                                                                 \n",
       "Afghanistan                                                1.1          \n",
       "Afghanistan                                                NaN          \n",
       "Albania                                                   42.8          \n",
       "\n",
       "             Poverty Gap reduction due to SPL (% of population)  \\\n",
       "Country                                                           \n",
       "Afghanistan                                               2.44    \n",
       "Afghanistan                                                NaN    \n",
       "Albania                                                  65.43    \n",
       "\n",
       "             Benefit- cost ratio of SPL programs  \n",
       "Country                                           \n",
       "Afghanistan                                 0.14  \n",
       "Afghanistan                                  NaN  \n",
       "Albania                                     0.32  "
      ]
     },
     "execution_count": 12,
     "metadata": {},
     "output_type": "execute_result"
    }
   ],
   "source": [
    "aspire_data.head(3)"
   ]
  },
  {
   "cell_type": "markdown",
   "metadata": {},
   "source": [
    "Rename index to World Bank spelling"
   ]
  },
  {
   "cell_type": "code",
   "execution_count": 13,
   "metadata": {
    "collapsed": true
   },
   "outputs": [],
   "source": [
    "aspire_data = aspire_data.rename(index=any_name_to_wb_name)"
   ]
  },
  {
   "cell_type": "markdown",
   "metadata": {},
   "source": [
    "Write to new csv file to have a 'cleaner' copy for future usage"
   ]
  },
  {
   "cell_type": "code",
   "execution_count": 14,
   "metadata": {
    "collapsed": false
   },
   "outputs": [],
   "source": [
    "aspire_data.to_csv('ASPIRE/ASPIRE_key_indicators_table_corrected.csv', encoding='utf-8')"
   ]
  },
  {
   "cell_type": "markdown",
   "metadata": {},
   "source": [
    "Keep only the most recent values"
   ]
  },
  {
   "cell_type": "code",
   "execution_count": 15,
   "metadata": {
    "collapsed": false
   },
   "outputs": [],
   "source": [
    "aspire_data = aspire_data[~aspire_data.index.duplicated(keep='last')] # CAREFUL!!!! This only works if the country sub-sets are well-ordered ...\n",
    "# i.e. if the bottom entry is the most recent one! Should be made safe!"
   ]
  },
  {
   "cell_type": "markdown",
   "metadata": {},
   "source": [
    "## Plot the data"
   ]
  },
  {
   "cell_type": "markdown",
   "metadata": {},
   "source": [
    "### Plot1 shows public social protection and transfer to the poorest quintile"
   ]
  },
  {
   "cell_type": "code",
   "execution_count": 16,
   "metadata": {
    "collapsed": true
   },
   "outputs": [],
   "source": [
    "ilo_plot1 = ILO_data['Public social protection']\n",
    "aspire_plot1 = aspire_data['Poorest quintile: Average transfer amount ($/day per capita, PPP), Total']"
   ]
  },
  {
   "cell_type": "code",
   "execution_count": 17,
   "metadata": {
    "collapsed": false
   },
   "outputs": [
    {
     "data": {
      "text/plain": [
       "Country\n",
       "Afghanistan      NaN\n",
       "Albania         1.55\n",
       "Argentina      10.87\n",
       "Armenia         1.19\n",
       "Armenia         1.18\n",
       "Name: Poorest quintile: Average transfer amount ($/day per capita, PPP), Total, dtype: float64"
      ]
     },
     "execution_count": 17,
     "metadata": {},
     "output_type": "execute_result"
    }
   ],
   "source": [
    "aspire_plot1.head()"
   ]
  },
  {
   "cell_type": "code",
   "execution_count": 18,
   "metadata": {
    "collapsed": false,
    "scrolled": true
   },
   "outputs": [],
   "source": [
    "ilo_plot1 = pd.to_numeric(ilo_plot1, errors='coerce') # This changes str to flt"
   ]
  },
  {
   "cell_type": "code",
   "execution_count": 19,
   "metadata": {
    "collapsed": false,
    "scrolled": true
   },
   "outputs": [
    {
     "data": {
      "text/plain": [
       "pandas.core.frame.DataFrame"
      ]
     },
     "execution_count": 19,
     "metadata": {},
     "output_type": "execute_result"
    }
   ],
   "source": [
    "plot1 = pd.concat([ilo_plot1, aspire_plot1], axis=1)\n",
    "type(plot1)"
   ]
  },
  {
   "cell_type": "code",
   "execution_count": 20,
   "metadata": {
    "collapsed": false
   },
   "outputs": [
    {
     "data": {
      "text/html": [
       "<div>\n",
       "<table border=\"1\" class=\"dataframe\">\n",
       "  <thead>\n",
       "    <tr style=\"text-align: right;\">\n",
       "      <th></th>\n",
       "      <th>pub_soc_prot</th>\n",
       "      <th>trf_poor</th>\n",
       "    </tr>\n",
       "  </thead>\n",
       "  <tbody>\n",
       "    <tr>\n",
       "      <th>Afghanistan</th>\n",
       "      <td>1.99</td>\n",
       "      <td>NaN</td>\n",
       "    </tr>\n",
       "    <tr>\n",
       "      <th>Albania</th>\n",
       "      <td>8.15</td>\n",
       "      <td>1.55</td>\n",
       "    </tr>\n",
       "    <tr>\n",
       "      <th>Algeria</th>\n",
       "      <td>5.36</td>\n",
       "      <td>NaN</td>\n",
       "    </tr>\n",
       "    <tr>\n",
       "      <th>Angola</th>\n",
       "      <td>4.64</td>\n",
       "      <td>NaN</td>\n",
       "    </tr>\n",
       "    <tr>\n",
       "      <th>Antigua and Barbuda</th>\n",
       "      <td>3.05</td>\n",
       "      <td>NaN</td>\n",
       "    </tr>\n",
       "  </tbody>\n",
       "</table>\n",
       "</div>"
      ],
      "text/plain": [
       "                     pub_soc_prot  trf_poor\n",
       "Afghanistan                  1.99       NaN\n",
       "Albania                      8.15      1.55\n",
       "Algeria                      5.36       NaN\n",
       "Angola                       4.64       NaN\n",
       "Antigua and Barbuda          3.05       NaN"
      ]
     },
     "execution_count": 20,
     "metadata": {},
     "output_type": "execute_result"
    }
   ],
   "source": [
    "plot1.rename(columns={'Public social protection':'pub_soc_prot',\n",
    "                      'Poorest quintile: Average transfer amount ($/day per capita, PPP), Total':'trf_poor'}, inplace=True)\n",
    "plot1.head()"
   ]
  },
  {
   "cell_type": "markdown",
   "metadata": {},
   "source": [
    "## Make a fit"
   ]
  },
  {
   "cell_type": "markdown",
   "metadata": {},
   "source": [
    "### Linear model OLS"
   ]
  },
  {
   "cell_type": "code",
   "execution_count": 21,
   "metadata": {
    "collapsed": true
   },
   "outputs": [],
   "source": [
    "X = plot1.values[:,0]\n",
    "Y = plot1.values[:,1]\n",
    "X = sm.add_constant(X)"
   ]
  },
  {
   "cell_type": "code",
   "execution_count": 22,
   "metadata": {
    "collapsed": false
   },
   "outputs": [
    {
     "data": {
      "text/html": [
       "<table class=\"simpletable\">\n",
       "<caption>OLS Regression Results</caption>\n",
       "<tr>\n",
       "  <th>Dep. Variable:</th>            <td>y</td>        <th>  R-squared:         </th> <td>   0.555</td>\n",
       "</tr>\n",
       "<tr>\n",
       "  <th>Model:</th>                   <td>OLS</td>       <th>  Adj. R-squared:    </th> <td>   0.550</td>\n",
       "</tr>\n",
       "<tr>\n",
       "  <th>Method:</th>             <td>Least Squares</td>  <th>  F-statistic:       </th> <td>   118.6</td>\n",
       "</tr>\n",
       "<tr>\n",
       "  <th>Date:</th>             <td>Mon, 18 Apr 2016</td> <th>  Prob (F-statistic):</th> <td>2.12e-18</td>\n",
       "</tr>\n",
       "<tr>\n",
       "  <th>Time:</th>                 <td>18:02:27</td>     <th>  Log-Likelihood:    </th> <td> -169.04</td>\n",
       "</tr>\n",
       "<tr>\n",
       "  <th>No. Observations:</th>      <td>    97</td>      <th>  AIC:               </th> <td>   342.1</td>\n",
       "</tr>\n",
       "<tr>\n",
       "  <th>Df Residuals:</th>          <td>    95</td>      <th>  BIC:               </th> <td>   347.2</td>\n",
       "</tr>\n",
       "<tr>\n",
       "  <th>Df Model:</th>              <td>     1</td>      <th>                     </th>     <td> </td>   \n",
       "</tr>\n",
       "<tr>\n",
       "  <th>Covariance Type:</th>      <td>nonrobust</td>    <th>                     </th>     <td> </td>   \n",
       "</tr>\n",
       "</table>\n",
       "<table class=\"simpletable\">\n",
       "<tr>\n",
       "    <td></td>       <th>coef</th>     <th>std err</th>      <th>t</th>      <th>P>|t|</th> <th>[95.0% Conf. Int.]</th> \n",
       "</tr>\n",
       "<tr>\n",
       "  <th>const</th> <td>   -0.1617</td> <td>    0.215</td> <td>   -0.751</td> <td> 0.454</td> <td>   -0.589     0.265</td>\n",
       "</tr>\n",
       "<tr>\n",
       "  <th>x1</th>    <td>    0.3299</td> <td>    0.030</td> <td>   10.888</td> <td> 0.000</td> <td>    0.270     0.390</td>\n",
       "</tr>\n",
       "</table>\n",
       "<table class=\"simpletable\">\n",
       "<tr>\n",
       "  <th>Omnibus:</th>       <td>48.676</td> <th>  Durbin-Watson:     </th> <td>   2.189</td>\n",
       "</tr>\n",
       "<tr>\n",
       "  <th>Prob(Omnibus):</th> <td> 0.000</td> <th>  Jarque-Bera (JB):  </th> <td> 199.911</td>\n",
       "</tr>\n",
       "<tr>\n",
       "  <th>Skew:</th>          <td> 1.598</td> <th>  Prob(JB):          </th> <td>3.89e-44</td>\n",
       "</tr>\n",
       "<tr>\n",
       "  <th>Kurtosis:</th>      <td> 9.265</td> <th>  Cond. No.          </th> <td>    10.9</td>\n",
       "</tr>\n",
       "</table>"
      ],
      "text/plain": [
       "<class 'statsmodels.iolib.summary.Summary'>\n",
       "\"\"\"\n",
       "                            OLS Regression Results                            \n",
       "==============================================================================\n",
       "Dep. Variable:                      y   R-squared:                       0.555\n",
       "Model:                            OLS   Adj. R-squared:                  0.550\n",
       "Method:                 Least Squares   F-statistic:                     118.6\n",
       "Date:                Mon, 18 Apr 2016   Prob (F-statistic):           2.12e-18\n",
       "Time:                        18:02:27   Log-Likelihood:                -169.04\n",
       "No. Observations:                  97   AIC:                             342.1\n",
       "Df Residuals:                      95   BIC:                             347.2\n",
       "Df Model:                           1                                         \n",
       "Covariance Type:            nonrobust                                         \n",
       "==============================================================================\n",
       "                 coef    std err          t      P>|t|      [95.0% Conf. Int.]\n",
       "------------------------------------------------------------------------------\n",
       "const         -0.1617      0.215     -0.751      0.454        -0.589     0.265\n",
       "x1             0.3299      0.030     10.888      0.000         0.270     0.390\n",
       "==============================================================================\n",
       "Omnibus:                       48.676   Durbin-Watson:                   2.189\n",
       "Prob(Omnibus):                  0.000   Jarque-Bera (JB):              199.911\n",
       "Skew:                           1.598   Prob(JB):                     3.89e-44\n",
       "Kurtosis:                       9.265   Cond. No.                         10.9\n",
       "==============================================================================\n",
       "\n",
       "Warnings:\n",
       "[1] Standard Errors assume that the covariance matrix of the errors is correctly specified.\n",
       "\"\"\""
      ]
     },
     "execution_count": 22,
     "metadata": {},
     "output_type": "execute_result"
    }
   ],
   "source": [
    "model = sm.OLS(Y, X, missing='drop') # This is for a simple linear model OLS fit\n",
    "results = model.fit()\n",
    "results.summary()"
   ]
  },
  {
   "cell_type": "code",
   "execution_count": 23,
   "metadata": {
    "collapsed": false
   },
   "outputs": [],
   "source": [
    "x_grid = np.linspace(0,np.nanmax(plot1.values[:,0]),100)"
   ]
  },
  {
   "cell_type": "code",
   "execution_count": 24,
   "metadata": {
    "collapsed": false
   },
   "outputs": [
    {
     "data": {
      "text/plain": [
       "array([-0.16169143,  0.32988645])"
      ]
     },
     "execution_count": 24,
     "metadata": {},
     "output_type": "execute_result"
    }
   ],
   "source": [
    "#sm.graphics.regressionplots.plot_partregress(plot1.values[:,0], plot1.values[:,1])\n",
    "results.params"
   ]
  },
  {
   "cell_type": "code",
   "execution_count": 25,
   "metadata": {
    "collapsed": false
   },
   "outputs": [],
   "source": [
    "y_hat_lin = results.params[0] + results.params[1] * x_grid"
   ]
  },
  {
   "cell_type": "markdown",
   "metadata": {},
   "source": [
    "## Make two different fits"
   ]
  },
  {
   "cell_type": "markdown",
   "metadata": {},
   "source": [
    "with y1 = c_0 + a*x for all x smaller than a threshold, and y2 = c_1 + b*x for all x >= than that threshold"
   ]
  },
  {
   "cell_type": "markdown",
   "metadata": {},
   "source": [
    "Define the threshold:"
   ]
  },
  {
   "cell_type": "code",
   "execution_count": 26,
   "metadata": {
    "collapsed": true
   },
   "outputs": [],
   "source": [
    "fit_thrs = 8"
   ]
  },
  {
   "cell_type": "markdown",
   "metadata": {},
   "source": [
    "### Parameters for the first piece:"
   ]
  },
  {
   "cell_type": "code",
   "execution_count": 27,
   "metadata": {
    "collapsed": true
   },
   "outputs": [],
   "source": [
    "X1 = plot1['pub_soc_prot'][plot1['pub_soc_prot']<=fit_thrs]\n",
    "Y1 = plot1['trf_poor'][plot1['pub_soc_prot']<=fit_thrs]\n",
    "#X1 = sm.add_constant(X1)"
   ]
  },
  {
   "cell_type": "code",
   "execution_count": null,
   "metadata": {
    "collapsed": false
   },
   "outputs": [],
   "source": []
  },
  {
   "cell_type": "code",
   "execution_count": 28,
   "metadata": {
    "collapsed": false,
    "scrolled": true
   },
   "outputs": [
    {
     "data": {
      "text/html": [
       "<table class=\"simpletable\">\n",
       "<caption>OLS Regression Results</caption>\n",
       "<tr>\n",
       "  <th>Dep. Variable:</th>        <td>trf_poor</td>     <th>  R-squared:         </th> <td>   0.482</td>\n",
       "</tr>\n",
       "<tr>\n",
       "  <th>Model:</th>                   <td>OLS</td>       <th>  Adj. R-squared:    </th> <td>   0.475</td>\n",
       "</tr>\n",
       "<tr>\n",
       "  <th>Method:</th>             <td>Least Squares</td>  <th>  F-statistic:       </th> <td>   65.22</td>\n",
       "</tr>\n",
       "<tr>\n",
       "  <th>Date:</th>             <td>Mon, 18 Apr 2016</td> <th>  Prob (F-statistic):</th> <td>1.32e-11</td>\n",
       "</tr>\n",
       "<tr>\n",
       "  <th>Time:</th>                 <td>18:02:28</td>     <th>  Log-Likelihood:    </th> <td> -98.428</td>\n",
       "</tr>\n",
       "<tr>\n",
       "  <th>No. Observations:</th>      <td>    71</td>      <th>  AIC:               </th> <td>   198.9</td>\n",
       "</tr>\n",
       "<tr>\n",
       "  <th>Df Residuals:</th>          <td>    70</td>      <th>  BIC:               </th> <td>   201.1</td>\n",
       "</tr>\n",
       "<tr>\n",
       "  <th>Df Model:</th>              <td>     1</td>      <th>                     </th>     <td> </td>   \n",
       "</tr>\n",
       "<tr>\n",
       "  <th>Covariance Type:</th>      <td>nonrobust</td>    <th>                     </th>     <td> </td>   \n",
       "</tr>\n",
       "</table>\n",
       "<table class=\"simpletable\">\n",
       "<tr>\n",
       "        <td></td>          <th>coef</th>     <th>std err</th>      <th>t</th>      <th>P>|t|</th> <th>[95.0% Conf. Int.]</th> \n",
       "</tr>\n",
       "<tr>\n",
       "  <th>pub_soc_prot</th> <td>    0.2658</td> <td>    0.033</td> <td>    8.076</td> <td> 0.000</td> <td>    0.200     0.331</td>\n",
       "</tr>\n",
       "</table>\n",
       "<table class=\"simpletable\">\n",
       "<tr>\n",
       "  <th>Omnibus:</th>       <td>55.673</td> <th>  Durbin-Watson:     </th> <td>   1.850</td>\n",
       "</tr>\n",
       "<tr>\n",
       "  <th>Prob(Omnibus):</th> <td> 0.000</td> <th>  Jarque-Bera (JB):  </th> <td> 238.108</td>\n",
       "</tr>\n",
       "<tr>\n",
       "  <th>Skew:</th>          <td> 2.420</td> <th>  Prob(JB):          </th> <td>1.97e-52</td>\n",
       "</tr>\n",
       "<tr>\n",
       "  <th>Kurtosis:</th>      <td>10.554</td> <th>  Cond. No.          </th> <td>    1.00</td>\n",
       "</tr>\n",
       "</table>"
      ],
      "text/plain": [
       "<class 'statsmodels.iolib.summary.Summary'>\n",
       "\"\"\"\n",
       "                            OLS Regression Results                            \n",
       "==============================================================================\n",
       "Dep. Variable:               trf_poor   R-squared:                       0.482\n",
       "Model:                            OLS   Adj. R-squared:                  0.475\n",
       "Method:                 Least Squares   F-statistic:                     65.22\n",
       "Date:                Mon, 18 Apr 2016   Prob (F-statistic):           1.32e-11\n",
       "Time:                        18:02:28   Log-Likelihood:                -98.428\n",
       "No. Observations:                  71   AIC:                             198.9\n",
       "Df Residuals:                      70   BIC:                             201.1\n",
       "Df Model:                           1                                         \n",
       "Covariance Type:            nonrobust                                         \n",
       "================================================================================\n",
       "                   coef    std err          t      P>|t|      [95.0% Conf. Int.]\n",
       "--------------------------------------------------------------------------------\n",
       "pub_soc_prot     0.2658      0.033      8.076      0.000         0.200     0.331\n",
       "==============================================================================\n",
       "Omnibus:                       55.673   Durbin-Watson:                   1.850\n",
       "Prob(Omnibus):                  0.000   Jarque-Bera (JB):              238.108\n",
       "Skew:                           2.420   Prob(JB):                     1.97e-52\n",
       "Kurtosis:                      10.554   Cond. No.                         1.00\n",
       "==============================================================================\n",
       "\n",
       "Warnings:\n",
       "[1] Standard Errors assume that the covariance matrix of the errors is correctly specified.\n",
       "\"\"\""
      ]
     },
     "execution_count": 28,
     "metadata": {},
     "output_type": "execute_result"
    }
   ],
   "source": [
    "model1 = sm.OLS(Y1, X1, missing='drop') # This is for a simple linear model OLS fit\n",
    "results1 = model1.fit()\n",
    "results1.summary()"
   ]
  },
  {
   "cell_type": "code",
   "execution_count": 29,
   "metadata": {
    "collapsed": false
   },
   "outputs": [],
   "source": [
    "x_grid_1 = np.linspace(0,fit_thrs,20)\n",
    "y_hat_1 = results1.params[0] * x_grid_1 # This formula assumes that there is no constant in the OLS"
   ]
  },
  {
   "cell_type": "markdown",
   "metadata": {},
   "source": [
    "### Parameters for the second piece"
   ]
  },
  {
   "cell_type": "code",
   "execution_count": 30,
   "metadata": {
    "collapsed": false
   },
   "outputs": [],
   "source": [
    "X2 = plot1['pub_soc_prot'][plot1['pub_soc_prot']>fit_thrs]\n",
    "Y2 = plot1['trf_poor'][plot1['pub_soc_prot']>fit_thrs]\n",
    "X2 = sm.add_constant(X2)"
   ]
  },
  {
   "cell_type": "code",
   "execution_count": 31,
   "metadata": {
    "collapsed": false
   },
   "outputs": [],
   "source": [
    "#X2['const'] = y_hat_1[-1]"
   ]
  },
  {
   "cell_type": "code",
   "execution_count": null,
   "metadata": {
    "collapsed": false,
    "scrolled": true
   },
   "outputs": [],
   "source": []
  },
  {
   "cell_type": "code",
   "execution_count": null,
   "metadata": {
    "collapsed": false
   },
   "outputs": [],
   "source": []
  },
  {
   "cell_type": "code",
   "execution_count": 32,
   "metadata": {
    "collapsed": false
   },
   "outputs": [
    {
     "data": {
      "text/html": [
       "<table class=\"simpletable\">\n",
       "<caption>OLS Regression Results</caption>\n",
       "<tr>\n",
       "  <th>Dep. Variable:</th>        <td>trf_poor</td>     <th>  R-squared:         </th> <td>   0.451</td>\n",
       "</tr>\n",
       "<tr>\n",
       "  <th>Model:</th>                   <td>OLS</td>       <th>  Adj. R-squared:    </th> <td>   0.429</td>\n",
       "</tr>\n",
       "<tr>\n",
       "  <th>Method:</th>             <td>Least Squares</td>  <th>  F-statistic:       </th> <td>   19.75</td>\n",
       "</tr>\n",
       "<tr>\n",
       "  <th>Date:</th>             <td>Mon, 18 Apr 2016</td> <th>  Prob (F-statistic):</th> <td>0.000171</td>\n",
       "</tr>\n",
       "<tr>\n",
       "  <th>Time:</th>                 <td>18:02:28</td>     <th>  Log-Likelihood:    </th> <td> -53.986</td>\n",
       "</tr>\n",
       "<tr>\n",
       "  <th>No. Observations:</th>      <td>    26</td>      <th>  AIC:               </th> <td>   112.0</td>\n",
       "</tr>\n",
       "<tr>\n",
       "  <th>Df Residuals:</th>          <td>    24</td>      <th>  BIC:               </th> <td>   114.5</td>\n",
       "</tr>\n",
       "<tr>\n",
       "  <th>Df Model:</th>              <td>     1</td>      <th>                     </th>     <td> </td>   \n",
       "</tr>\n",
       "<tr>\n",
       "  <th>Covariance Type:</th>      <td>nonrobust</td>    <th>                     </th>     <td> </td>   \n",
       "</tr>\n",
       "</table>\n",
       "<table class=\"simpletable\">\n",
       "<tr>\n",
       "        <td></td>          <th>coef</th>     <th>std err</th>      <th>t</th>      <th>P>|t|</th> <th>[95.0% Conf. Int.]</th> \n",
       "</tr>\n",
       "<tr>\n",
       "  <th>const</th>        <td>   -4.0782</td> <td>    1.799</td> <td>   -2.267</td> <td> 0.033</td> <td>   -7.791    -0.366</td>\n",
       "</tr>\n",
       "<tr>\n",
       "  <th>pub_soc_prot</th> <td>    0.6432</td> <td>    0.145</td> <td>    4.444</td> <td> 0.000</td> <td>    0.344     0.942</td>\n",
       "</tr>\n",
       "</table>\n",
       "<table class=\"simpletable\">\n",
       "<tr>\n",
       "  <th>Omnibus:</th>       <td>17.816</td> <th>  Durbin-Watson:     </th> <td>   1.634</td>\n",
       "</tr>\n",
       "<tr>\n",
       "  <th>Prob(Omnibus):</th> <td> 0.000</td> <th>  Jarque-Bera (JB):  </th> <td>  22.874</td>\n",
       "</tr>\n",
       "<tr>\n",
       "  <th>Skew:</th>          <td> 1.524</td> <th>  Prob(JB):          </th> <td>1.08e-05</td>\n",
       "</tr>\n",
       "<tr>\n",
       "  <th>Kurtosis:</th>      <td> 6.439</td> <th>  Cond. No.          </th> <td>    57.1</td>\n",
       "</tr>\n",
       "</table>"
      ],
      "text/plain": [
       "<class 'statsmodels.iolib.summary.Summary'>\n",
       "\"\"\"\n",
       "                            OLS Regression Results                            \n",
       "==============================================================================\n",
       "Dep. Variable:               trf_poor   R-squared:                       0.451\n",
       "Model:                            OLS   Adj. R-squared:                  0.429\n",
       "Method:                 Least Squares   F-statistic:                     19.75\n",
       "Date:                Mon, 18 Apr 2016   Prob (F-statistic):           0.000171\n",
       "Time:                        18:02:28   Log-Likelihood:                -53.986\n",
       "No. Observations:                  26   AIC:                             112.0\n",
       "Df Residuals:                      24   BIC:                             114.5\n",
       "Df Model:                           1                                         \n",
       "Covariance Type:            nonrobust                                         \n",
       "================================================================================\n",
       "                   coef    std err          t      P>|t|      [95.0% Conf. Int.]\n",
       "--------------------------------------------------------------------------------\n",
       "const           -4.0782      1.799     -2.267      0.033        -7.791    -0.366\n",
       "pub_soc_prot     0.6432      0.145      4.444      0.000         0.344     0.942\n",
       "==============================================================================\n",
       "Omnibus:                       17.816   Durbin-Watson:                   1.634\n",
       "Prob(Omnibus):                  0.000   Jarque-Bera (JB):               22.874\n",
       "Skew:                           1.524   Prob(JB):                     1.08e-05\n",
       "Kurtosis:                       6.439   Cond. No.                         57.1\n",
       "==============================================================================\n",
       "\n",
       "Warnings:\n",
       "[1] Standard Errors assume that the covariance matrix of the errors is correctly specified.\n",
       "\"\"\""
      ]
     },
     "execution_count": 32,
     "metadata": {},
     "output_type": "execute_result"
    }
   ],
   "source": [
    "model2 = sm.OLS(Y2, X2, missing='drop') # This is for a simple linear model OLS fit\n",
    "results2 = model2.fit()\n",
    "results2.summary()"
   ]
  },
  {
   "cell_type": "code",
   "execution_count": 33,
   "metadata": {
    "collapsed": false
   },
   "outputs": [],
   "source": [
    "x_grid_2 = np.linspace(fit_thrs,20,20)\n",
    "y_hat_2 = results2.params[0] + results2.params[1] * x_grid_2"
   ]
  },
  {
   "cell_type": "markdown",
   "metadata": {},
   "source": [
    "### Try a different method: Use the formula and curve fitting approach for piecewise estimation / interpolation\n",
    "We want to use a fomula like <br />\n",
    "y* ~ a*x for x <= Theta <br />\n",
    "y* ~ a*x + b*(x - Theta) for x > Theta"
   ]
  },
  {
   "cell_type": "code",
   "execution_count": 34,
   "metadata": {
    "collapsed": false
   },
   "outputs": [],
   "source": [
    "XY = plot1.dropna() # Get rid of NaNs"
   ]
  },
  {
   "cell_type": "code",
   "execution_count": 35,
   "metadata": {
    "collapsed": false
   },
   "outputs": [],
   "source": [
    "X = XY['pub_soc_prot'].values\n",
    "Y = XY['trf_poor'].values"
   ]
  },
  {
   "cell_type": "code",
   "execution_count": 36,
   "metadata": {
    "collapsed": false
   },
   "outputs": [
    {
     "data": {
      "text/plain": [
       "(97,)"
      ]
     },
     "execution_count": 36,
     "metadata": {},
     "output_type": "execute_result"
    }
   ],
   "source": [
    "Y.shape"
   ]
  },
  {
   "cell_type": "code",
   "execution_count": 37,
   "metadata": {
    "collapsed": false
   },
   "outputs": [],
   "source": [
    "def linear(x, a, b):\n",
    "    y2 = a + b*x\n",
    "    return y2\n",
    "\n",
    "#def piecewise_linear(x, x0, y0, a, b):\n",
    "#    return np.piecewise(x, [x < x0], [lambda x:a*x + y0-a*x0, lambda x:b*x + y0-b*x0])\n",
    "\n",
    "def piecewise_linear(x, Theta, a, b):\n",
    "    return np.piecewise(x, [x <= Theta, x > Theta ], [lambda x:a*x, lambda x:a*x + b*(x-Theta)])"
   ]
  },
  {
   "cell_type": "code",
   "execution_count": 38,
   "metadata": {
    "collapsed": false
   },
   "outputs": [],
   "source": [
    "popt_lin, pcov_lin = sp.optimize.curve_fit(linear, np.array(X), np.array(Y)) # input needs np.array"
   ]
  },
  {
   "cell_type": "code",
   "execution_count": 39,
   "metadata": {
    "collapsed": false
   },
   "outputs": [],
   "source": [
    "popt, pcov = sp.optimize.curve_fit(piecewise_linear, np.array(X), np.array(Y)) # input needs np.array"
   ]
  },
  {
   "cell_type": "code",
   "execution_count": 40,
   "metadata": {
    "collapsed": false
   },
   "outputs": [
    {
     "name": "stdout",
     "output_type": "stream",
     "text": [
      "[ 9.39097428  0.2276889   0.3806569 ]\n"
     ]
    }
   ],
   "source": [
    "print(popt)"
   ]
  },
  {
   "cell_type": "code",
   "execution_count": 41,
   "metadata": {
    "collapsed": false
   },
   "outputs": [
    {
     "name": "stdout",
     "output_type": "stream",
     "text": [
      "[[  3.22049903e+00   3.29371824e-02   1.47963693e-01]\n",
      " [  3.29371824e-02   1.33508677e-03  -1.33508675e-03]\n",
      " [  1.47963693e-01  -1.33508675e-03   1.95425691e-02]]\n"
     ]
    }
   ],
   "source": [
    "print(pcov)"
   ]
  },
  {
   "cell_type": "code",
   "execution_count": 42,
   "metadata": {
    "collapsed": false
   },
   "outputs": [],
   "source": [
    "y_hat_lin = linear(x_grid, popt_lin[0], popt_lin[0])"
   ]
  },
  {
   "cell_type": "code",
   "execution_count": 43,
   "metadata": {
    "collapsed": false
   },
   "outputs": [],
   "source": [
    "y_hat_piece = piecewise_linear(x_grid, popt[0], popt[1], popt[2])"
   ]
  },
  {
   "cell_type": "code",
   "execution_count": 44,
   "metadata": {
    "collapsed": false
   },
   "outputs": [
    {
     "data": {
      "text/plain": [
       "(97,)"
      ]
     },
     "execution_count": 44,
     "metadata": {},
     "output_type": "execute_result"
    }
   ],
   "source": [
    "X.shape"
   ]
  },
  {
   "cell_type": "markdown",
   "metadata": {},
   "source": [
    "## Use nonparametric regression / curve fitting"
   ]
  },
  {
   "cell_type": "markdown",
   "metadata": {},
   "source": [
    "See http://pythonhosted.org/PyQt-Fit/NonParam_tut.html for the example that this code follows along"
   ]
  },
  {
   "cell_type": "code",
   "execution_count": 45,
   "metadata": {
    "collapsed": false
   },
   "outputs": [],
   "source": [
    "import pyqt_fit.nonparam_regression as smooth\n",
    "from pyqt_fit import npr_methods"
   ]
  },
  {
   "cell_type": "code",
   "execution_count": 46,
   "metadata": {
    "collapsed": false
   },
   "outputs": [],
   "source": [
    "XY = plot1.dropna() # Get rid of NaNs"
   ]
  },
  {
   "cell_type": "code",
   "execution_count": 47,
   "metadata": {
    "collapsed": true
   },
   "outputs": [],
   "source": [
    "X = XY['pub_soc_prot']\n",
    "Y = XY['trf_poor']"
   ]
  },
  {
   "cell_type": "code",
   "execution_count": 48,
   "metadata": {
    "collapsed": true
   },
   "outputs": [],
   "source": [
    "k0 = smooth.NonParamRegression(X, Y, method=npr_methods.LocalPolynomialKernel(q=1))"
   ]
  },
  {
   "cell_type": "code",
   "execution_count": 49,
   "metadata": {
    "collapsed": false
   },
   "outputs": [],
   "source": [
    "k0.fit()"
   ]
  },
  {
   "cell_type": "markdown",
   "metadata": {},
   "source": [
    "### Plot"
   ]
  },
  {
   "cell_type": "code",
   "execution_count": 50,
   "metadata": {
    "collapsed": false,
    "scrolled": true
   },
   "outputs": [
    {
     "data": {
      "text/plain": [
       "array([ 9.39097428,  0.2276889 ,  0.3806569 ])"
      ]
     },
     "execution_count": 50,
     "metadata": {},
     "output_type": "execute_result"
    }
   ],
   "source": [
    "popt"
   ]
  },
  {
   "cell_type": "code",
   "execution_count": 60,
   "metadata": {
    "collapsed": false,
    "scrolled": true
   },
   "outputs": [
    {
     "ename": "AttributeError",
     "evalue": "Unknown property fillstyle",
     "output_type": "error",
     "traceback": [
      "\u001b[0;31m---------------------------------------------------------------------------\u001b[0m",
      "\u001b[0;31mAttributeError\u001b[0m                            Traceback (most recent call last)",
      "\u001b[0;32m<ipython-input-60-92311b67a4d6>\u001b[0m in \u001b[0;36m<module>\u001b[0;34m()\u001b[0m\n\u001b[1;32m      1\u001b[0m \u001b[0mfig1\u001b[0m \u001b[0;34m=\u001b[0m \u001b[0mplt\u001b[0m\u001b[0;34m.\u001b[0m\u001b[0mfigure\u001b[0m\u001b[0;34m(\u001b[0m\u001b[0;34m)\u001b[0m\u001b[0;34m\u001b[0m\u001b[0m\n\u001b[0;32m----> 2\u001b[0;31m \u001b[0mfig1\u001b[0m \u001b[0;34m=\u001b[0m \u001b[0mplt\u001b[0m\u001b[0;34m.\u001b[0m\u001b[0mscatter\u001b[0m\u001b[0;34m(\u001b[0m\u001b[0mplot1\u001b[0m\u001b[0;34m.\u001b[0m\u001b[0mvalues\u001b[0m\u001b[0;34m[\u001b[0m\u001b[0;34m:\u001b[0m\u001b[0;34m,\u001b[0m\u001b[0;36m0\u001b[0m\u001b[0;34m]\u001b[0m\u001b[0;34m,\u001b[0m \u001b[0mplot1\u001b[0m\u001b[0;34m.\u001b[0m\u001b[0mvalues\u001b[0m\u001b[0;34m[\u001b[0m\u001b[0;34m:\u001b[0m\u001b[0;34m,\u001b[0m\u001b[0;36m1\u001b[0m\u001b[0;34m]\u001b[0m\u001b[0;34m,\u001b[0m \u001b[0mcolor\u001b[0m\u001b[0;34m=\u001b[0m\u001b[0;34m'r'\u001b[0m\u001b[0;34m,\u001b[0m \u001b[0mmarker\u001b[0m\u001b[0;34m=\u001b[0m\u001b[0;34m'o'\u001b[0m\u001b[0;34m,\u001b[0m \u001b[0mfillstyle\u001b[0m\u001b[0;34m=\u001b[0m\u001b[0;34m'none'\u001b[0m\u001b[0;34m,\u001b[0m \u001b[0mclip_on\u001b[0m\u001b[0;34m=\u001b[0m\u001b[0;32mFalse\u001b[0m\u001b[0;34m)\u001b[0m\u001b[0;34m\u001b[0m\u001b[0m\n\u001b[0m\u001b[1;32m      3\u001b[0m \u001b[0;31m#plt.plot(x_grid, y_hat_lin, 'g-', label = 'Continous linear', linewidth=2)\u001b[0m\u001b[0;34m\u001b[0m\u001b[0;34m\u001b[0m\u001b[0m\n\u001b[1;32m      4\u001b[0m \u001b[0;31m#plt.plot(x_grid_1, y_hat_1, 'k-', label = 'Piecewise linear', linewidth=2)\u001b[0m\u001b[0;34m\u001b[0m\u001b[0;34m\u001b[0m\u001b[0m\n\u001b[1;32m      5\u001b[0m \u001b[0;31m#plt.plot(x_grid_2, y_hat_2, 'k-', linewidth=2)\u001b[0m\u001b[0;34m\u001b[0m\u001b[0;34m\u001b[0m\u001b[0m\n",
      "\u001b[0;32m/Users/steffen/anaconda/lib/python3.5/site-packages/matplotlib/pyplot.py\u001b[0m in \u001b[0;36mscatter\u001b[0;34m(x, y, s, c, marker, cmap, norm, vmin, vmax, alpha, linewidths, verts, edgecolors, hold, data, **kwargs)\u001b[0m\n\u001b[1;32m   3249\u001b[0m                          \u001b[0mvmin\u001b[0m\u001b[0;34m=\u001b[0m\u001b[0mvmin\u001b[0m\u001b[0;34m,\u001b[0m \u001b[0mvmax\u001b[0m\u001b[0;34m=\u001b[0m\u001b[0mvmax\u001b[0m\u001b[0;34m,\u001b[0m \u001b[0malpha\u001b[0m\u001b[0;34m=\u001b[0m\u001b[0malpha\u001b[0m\u001b[0;34m,\u001b[0m\u001b[0;34m\u001b[0m\u001b[0m\n\u001b[1;32m   3250\u001b[0m                          \u001b[0mlinewidths\u001b[0m\u001b[0;34m=\u001b[0m\u001b[0mlinewidths\u001b[0m\u001b[0;34m,\u001b[0m \u001b[0mverts\u001b[0m\u001b[0;34m=\u001b[0m\u001b[0mverts\u001b[0m\u001b[0;34m,\u001b[0m\u001b[0;34m\u001b[0m\u001b[0m\n\u001b[0;32m-> 3251\u001b[0;31m                          edgecolors=edgecolors, data=data, **kwargs)\n\u001b[0m\u001b[1;32m   3252\u001b[0m     \u001b[0;32mfinally\u001b[0m\u001b[0;34m:\u001b[0m\u001b[0;34m\u001b[0m\u001b[0m\n\u001b[1;32m   3253\u001b[0m         \u001b[0max\u001b[0m\u001b[0;34m.\u001b[0m\u001b[0mhold\u001b[0m\u001b[0;34m(\u001b[0m\u001b[0mwashold\u001b[0m\u001b[0;34m)\u001b[0m\u001b[0;34m\u001b[0m\u001b[0m\n",
      "\u001b[0;32m/Users/steffen/anaconda/lib/python3.5/site-packages/matplotlib/__init__.py\u001b[0m in \u001b[0;36minner\u001b[0;34m(ax, *args, **kwargs)\u001b[0m\n\u001b[1;32m   1810\u001b[0m                     warnings.warn(msg % (label_namer, func.__name__),\n\u001b[1;32m   1811\u001b[0m                                   RuntimeWarning, stacklevel=2)\n\u001b[0;32m-> 1812\u001b[0;31m             \u001b[0;32mreturn\u001b[0m \u001b[0mfunc\u001b[0m\u001b[0;34m(\u001b[0m\u001b[0max\u001b[0m\u001b[0;34m,\u001b[0m \u001b[0;34m*\u001b[0m\u001b[0margs\u001b[0m\u001b[0;34m,\u001b[0m \u001b[0;34m**\u001b[0m\u001b[0mkwargs\u001b[0m\u001b[0;34m)\u001b[0m\u001b[0;34m\u001b[0m\u001b[0m\n\u001b[0m\u001b[1;32m   1813\u001b[0m         \u001b[0mpre_doc\u001b[0m \u001b[0;34m=\u001b[0m \u001b[0minner\u001b[0m\u001b[0;34m.\u001b[0m\u001b[0m__doc__\u001b[0m\u001b[0;34m\u001b[0m\u001b[0m\n\u001b[1;32m   1814\u001b[0m         \u001b[0;32mif\u001b[0m \u001b[0mpre_doc\u001b[0m \u001b[0;32mis\u001b[0m \u001b[0;32mNone\u001b[0m\u001b[0;34m:\u001b[0m\u001b[0;34m\u001b[0m\u001b[0m\n",
      "\u001b[0;32m/Users/steffen/anaconda/lib/python3.5/site-packages/matplotlib/axes/_axes.py\u001b[0m in \u001b[0;36mscatter\u001b[0;34m(self, x, y, s, c, marker, cmap, norm, vmin, vmax, alpha, linewidths, verts, edgecolors, **kwargs)\u001b[0m\n\u001b[1;32m   3894\u001b[0m                 )\n\u001b[1;32m   3895\u001b[0m         \u001b[0mcollection\u001b[0m\u001b[0;34m.\u001b[0m\u001b[0mset_transform\u001b[0m\u001b[0;34m(\u001b[0m\u001b[0mmtransforms\u001b[0m\u001b[0;34m.\u001b[0m\u001b[0mIdentityTransform\u001b[0m\u001b[0;34m(\u001b[0m\u001b[0;34m)\u001b[0m\u001b[0;34m)\u001b[0m\u001b[0;34m\u001b[0m\u001b[0m\n\u001b[0;32m-> 3896\u001b[0;31m         \u001b[0mcollection\u001b[0m\u001b[0;34m.\u001b[0m\u001b[0mupdate\u001b[0m\u001b[0;34m(\u001b[0m\u001b[0mkwargs\u001b[0m\u001b[0;34m)\u001b[0m\u001b[0;34m\u001b[0m\u001b[0m\n\u001b[0m\u001b[1;32m   3897\u001b[0m \u001b[0;34m\u001b[0m\u001b[0m\n\u001b[1;32m   3898\u001b[0m         \u001b[0;32mif\u001b[0m \u001b[0mcolors\u001b[0m \u001b[0;32mis\u001b[0m \u001b[0;32mNone\u001b[0m\u001b[0;34m:\u001b[0m\u001b[0;34m\u001b[0m\u001b[0m\n",
      "\u001b[0;32m/Users/steffen/anaconda/lib/python3.5/site-packages/matplotlib/artist.py\u001b[0m in \u001b[0;36mupdate\u001b[0;34m(self, props)\u001b[0m\n\u001b[1;32m    854\u001b[0m                 \u001b[0mfunc\u001b[0m \u001b[0;34m=\u001b[0m \u001b[0mgetattr\u001b[0m\u001b[0;34m(\u001b[0m\u001b[0mself\u001b[0m\u001b[0;34m,\u001b[0m \u001b[0;34m'set_'\u001b[0m \u001b[0;34m+\u001b[0m \u001b[0mk\u001b[0m\u001b[0;34m,\u001b[0m \u001b[0;32mNone\u001b[0m\u001b[0;34m)\u001b[0m\u001b[0;34m\u001b[0m\u001b[0m\n\u001b[1;32m    855\u001b[0m                 \u001b[0;32mif\u001b[0m \u001b[0mfunc\u001b[0m \u001b[0;32mis\u001b[0m \u001b[0;32mNone\u001b[0m \u001b[0;32mor\u001b[0m \u001b[0;32mnot\u001b[0m \u001b[0msix\u001b[0m\u001b[0;34m.\u001b[0m\u001b[0mcallable\u001b[0m\u001b[0;34m(\u001b[0m\u001b[0mfunc\u001b[0m\u001b[0;34m)\u001b[0m\u001b[0;34m:\u001b[0m\u001b[0;34m\u001b[0m\u001b[0m\n\u001b[0;32m--> 856\u001b[0;31m                     \u001b[0;32mraise\u001b[0m \u001b[0mAttributeError\u001b[0m\u001b[0;34m(\u001b[0m\u001b[0;34m'Unknown property %s'\u001b[0m \u001b[0;34m%\u001b[0m \u001b[0mk\u001b[0m\u001b[0;34m)\u001b[0m\u001b[0;34m\u001b[0m\u001b[0m\n\u001b[0m\u001b[1;32m    857\u001b[0m                 \u001b[0mfunc\u001b[0m\u001b[0;34m(\u001b[0m\u001b[0mv\u001b[0m\u001b[0;34m)\u001b[0m\u001b[0;34m\u001b[0m\u001b[0m\n\u001b[1;32m    858\u001b[0m             \u001b[0mchanged\u001b[0m \u001b[0;34m=\u001b[0m \u001b[0;32mTrue\u001b[0m\u001b[0;34m\u001b[0m\u001b[0m\n",
      "\u001b[0;31mAttributeError\u001b[0m: Unknown property fillstyle"
     ]
    },
    {
     "data": {
      "image/png": "[encoded data removed]",
      "text/plain": [
       "<matplotlib.figure.Figure at 0x117d29588>"
      ]
     },
     "metadata": {},
     "output_type": "display_data"
    }
   ],
   "source": [
    "fig1 = plt.figure()\n",
    "fig1 = plt.scatter(plot1.values[:,0], plot1.values[:,1], color='r', marker='o', fillstyle='none', clip_on=False)\n",
    "#plt.plot(x_grid, y_hat_lin, 'g-', label = 'Continous linear', linewidth=2)\n",
    "#plt.plot(x_grid_1, y_hat_1, 'k-', label = 'Piecewise linear', linewidth=2)\n",
    "#plt.plot(x_grid_2, y_hat_2, 'k-', linewidth=2)\n",
    "plt.plot(x_grid, y_hat_piece, label=\"Piecewise fit\", color = 'k', ls = '-', linewidth=2)\n",
    "#plt.plot(x_grid, y_hat_lin, label=\"Linear fit\", color = 'purple', ls = '-', linewidth=2)\n",
    "plt.plot(x_grid, k0(x_grid), label=\"Nonparam. fit, locally linear\", color = 'blue', ls = '--', linewidth=2)\n",
    "plt.xlabel('ILO Public Social Protection')\n",
    "plt.ylabel('ASPIRE: Av trf/mnth poorest quint')\n",
    "plt.xlim(0)\n",
    "plt.ylim(0)\n",
    "plt.legend()"
   ]
  },
  {
   "cell_type": "markdown",
   "metadata": {},
   "source": [
    "Share of income from social protection for bottom quintile and all other quintiles"
   ]
  },
  {
   "cell_type": "markdown",
   "metadata": {
    "collapsed": true
   },
   "source": [
    "# Look at data availability\n",
    "Compare the number of countries in ASPIRE and in ILO"
   ]
  },
  {
   "cell_type": "markdown",
   "metadata": {
    "collapsed": true
   },
   "source": [
    "Number of countries in the ILO database: Total public social protection expenditure and health expenditure"
   ]
  },
  {
   "cell_type": "code",
   "execution_count": 52,
   "metadata": {
    "collapsed": false
   },
   "outputs": [
    {
     "data": {
      "text/plain": [
       "193"
      ]
     },
     "execution_count": 52,
     "metadata": {},
     "output_type": "execute_result"
    }
   ],
   "source": [
    "ILO_data.index.size"
   ]
  },
  {
   "cell_type": "markdown",
   "metadata": {},
   "source": [
    "Number of countries in ASPIRE: Average transfer to the poorest quintile ($/day per capita, PPP)"
   ]
  },
  {
   "cell_type": "code",
   "execution_count": 53,
   "metadata": {
    "collapsed": false
   },
   "outputs": [
    {
     "data": {
      "text/plain": [
       "118"
      ]
     },
     "execution_count": 53,
     "metadata": {},
     "output_type": "execute_result"
    }
   ],
   "source": [
    "aspire_data.index.size"
   ]
  },
  {
   "cell_type": "code",
   "execution_count": 54,
   "metadata": {
    "collapsed": false
   },
   "outputs": [
    {
     "data": {
      "text/plain": [
       "188"
      ]
     },
     "execution_count": 54,
     "metadata": {},
     "output_type": "execute_result"
    }
   ],
   "source": [
    "ILO_data.dropna().index.size"
   ]
  },
  {
   "cell_type": "code",
   "execution_count": 55,
   "metadata": {
    "collapsed": false
   },
   "outputs": [
    {
     "data": {
      "text/plain": [
       "35"
      ]
     },
     "execution_count": 55,
     "metadata": {},
     "output_type": "execute_result"
    }
   ],
   "source": [
    "aspire_data.dropna().index.size"
   ]
  },
  {
   "cell_type": "markdown",
   "metadata": {},
   "source": [
    "Which countries exist in ILO which do not exist in ASPIRE?"
   ]
  },
  {
   "cell_type": "code",
   "execution_count": 56,
   "metadata": {
    "collapsed": false
   },
   "outputs": [
    {
     "data": {
      "text/plain": [
       "Index(['Algeria', 'Angola', 'Antigua and Barbuda', 'Aruba',\n",
       "       'Asia and the Middle East', 'Australia', 'Austria', 'Bahamas, The',\n",
       "       'Bahrain', 'Barbados', 'Belgium', 'Brunei Darussalam', 'Burundi',\n",
       "       'Canada', 'Central African Republic', 'Chad', 'China',\n",
       "       'Congo, Dem. Rep.', 'Congo, Rep.', 'Cook Islands', 'Cote d'Ivoire',\n",
       "       'Cuba', 'Cyprus', 'Czech Republic', 'Denmark', 'Equatorial Guinea',\n",
       "       'Eritrea', 'Estonia', 'Europe', 'Finland', 'France', 'Germany',\n",
       "       'Greece', 'Grenada', 'Guinea', 'Guinea-Bissau', 'Guyana',\n",
       "       'Hong Kong SAR, China', 'Iceland', 'Iran, Islamic Rep.', 'Ireland',\n",
       "       'Israel', 'Italy', 'Japan', 'Korea, Rep.', 'Kuwait',\n",
       "       'Latin America and the Caribbean', 'Libya', 'Luxembourg',\n",
       "       'Macao SAR, China', 'Macedonia, FYR', 'Malta', 'Myanmar', 'Nauru',\n",
       "       'Netherlands', 'New Zealand', 'North America', 'Norway', 'Oceania',\n",
       "       'Oman', 'Portugal', 'Qatar', 'Samoa', 'San Marino', 'Saudi Arabia',\n",
       "       'Seychelles', 'Singapore', 'Slovenia', 'Spain', 'St. Kitts and Nevis',\n",
       "       'St. Lucia', 'St. Vincent and the Grenadines', 'Sudan', 'Sweden',\n",
       "       'Switzerland', 'São Tomé and Príncipe', 'Taiwan', 'Tonga',\n",
       "       'Trinidad and Tobago', 'Tuvalu', 'United Arab Emirates',\n",
       "       'United Kingdom', 'United States', 'Uzbekistan', 'Vanuatu'],\n",
       "      dtype='object')"
      ]
     },
     "execution_count": 56,
     "metadata": {},
     "output_type": "execute_result"
    }
   ],
   "source": [
    "ILO_data.index.difference(aspire_data.index)"
   ]
  },
  {
   "cell_type": "code",
   "execution_count": 57,
   "metadata": {
    "collapsed": false
   },
   "outputs": [
    {
     "data": {
      "text/plain": [
       "Index(['Armenia ', 'Bhutan ', 'Comoros', 'Congo Democratic Republic',\n",
       "       'Congo Republic', 'Cote D'Ivoire', 'Gabon', 'India ',\n",
       "       'Micronesia, Fed. Sts.', 'West Bank and Gaza'],\n",
       "      dtype='object')"
      ]
     },
     "execution_count": 57,
     "metadata": {},
     "output_type": "execute_result"
    }
   ],
   "source": [
    "aspire_data.index.difference(ILO_data.index)"
   ]
  },
  {
   "cell_type": "code",
   "execution_count": null,
   "metadata": {
    "collapsed": false
   },
   "outputs": [],
   "source": []
  },
  {
   "cell_type": "code",
   "execution_count": 58,
   "metadata": {
    "collapsed": false
   },
   "outputs": [
    {
     "data": {
      "text/plain": [
       "<bound method Index.sort of Index(['Afghanistan', 'Albania', 'Argentina', 'Armenia', 'Armenia ',\n",
       "       'Azerbaijan', 'Bangladesh', 'Belarus', 'Belize', 'Benin',\n",
       "       ...\n",
       "       'Turkey', 'Uganda', 'Ukraine', 'Uruguay', 'Venezuela, RB', 'Vietnam',\n",
       "       'West Bank and Gaza', 'Yemen, Rep.', 'Zambia', 'Zimbabwe'],\n",
       "      dtype='object', name='Country', length=118)>"
      ]
     },
     "execution_count": 58,
     "metadata": {},
     "output_type": "execute_result"
    }
   ],
   "source": [
    "aspire_data.index.sort"
   ]
  },
  {
   "cell_type": "code",
   "execution_count": null,
   "metadata": {
    "collapsed": true
   },
   "outputs": [],
   "source": []
  }
 ],
 "metadata": {
  "kernelspec": {
   "display_name": "Python 3",
   "language": "python",
   "name": "python3"
  },
  "language_info": {
   "codemirror_mode": {
    "name": "ipython",
    "version": 3
   },
   "file_extension": ".py",
   "mimetype": "text/x-python",
   "name": "python",
   "nbconvert_exporter": "python",
   "pygments_lexer": "ipython3",
   "version": "3.5.1"
  }
 },
 "nbformat": 4,
 "nbformat_minor": 0
}
