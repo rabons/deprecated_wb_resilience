{
 "cells": [
  {
   "cell_type": "markdown",
   "metadata": {
    "collapsed": true
   },
   "source": [
    "# This code reads out various data sets and compares data availabily across several data sets"
   ]
  },
  {
   "cell_type": "code",
   "execution_count": 1,
   "metadata": {
    "collapsed": false
   },
   "outputs": [],
   "source": [
    "import os\n",
    "import pandas as pd\n",
    "import numpy as np\n",
    "from pandas_datareader import wb\n",
    "%load_ext autoreload\n",
    "%autoreload 2"
   ]
  },
  {
   "cell_type": "code",
   "execution_count": 2,
   "metadata": {
    "collapsed": true
   },
   "outputs": [],
   "source": [
    "cwd = os.getcwd()\n",
    "os.chdir(\"../git/wb_api_wrapper/\")\n",
    "from  wb_api_wrapper import * #Import functions to obtain World Bank data from the web and code to rename country names\n",
    "os.chdir(cwd) #Get back to initial working directory"
   ]
  },
  {
   "cell_type": "markdown",
   "metadata": {
    "collapsed": false
   },
   "source": [
    "Get a dictionaty translating country spellings to the spelling usually used by the World Bank data sets"
   ]
  },
  {
   "cell_type": "code",
   "execution_count": 3,
   "metadata": {
    "collapsed": true
   },
   "outputs": [],
   "source": [
    "any_name_to_wb_name = pd.read_csv(\"../git/country_names/out/any_name_to_wb_name.csv\",index_col=\"any\",squeeze=True, encoding=\"utf-8\")"
   ]
  },
  {
   "cell_type": "markdown",
   "metadata": {},
   "source": [
    "The goal of this Notebook is to create a matrix of countries and the availability of indicators relevant for assessing resilience. We start off with loading some work which has been done already, contained in the file have_and_have_nots.csv."
   ]
  },
  {
   "cell_type": "code",
   "execution_count": 5,
   "metadata": {
    "collapsed": false
   },
   "outputs": [
    {
     "data": {
      "text/html": [
       "<div>\n",
       "<table border=\"1\" class=\"dataframe\">\n",
       "  <thead>\n",
       "    <tr style=\"text-align: right;\">\n",
       "      <th></th>\n",
       "      <th>Code</th>\n",
       "      <th>Region</th>\n",
       "      <th>Income group</th>\n",
       "      <th>Lending category</th>\n",
       "      <th>HIPC</th>\n",
       "      <th>Data</th>\n",
       "      <th>missing_data</th>\n",
       "    </tr>\n",
       "    <tr>\n",
       "      <th>Economy</th>\n",
       "      <th></th>\n",
       "      <th></th>\n",
       "      <th></th>\n",
       "      <th></th>\n",
       "      <th></th>\n",
       "      <th></th>\n",
       "      <th></th>\n",
       "    </tr>\n",
       "  </thead>\n",
       "  <tbody>\n",
       "    <tr>\n",
       "      <th>Afghanistan</th>\n",
       "      <td>AFG</td>\n",
       "      <td>South Asia</td>\n",
       "      <td>Low income</td>\n",
       "      <td>IDA</td>\n",
       "      <td>HIPC</td>\n",
       "      <td>0.0</td>\n",
       "      <td>plgp, avg_prod_k</td>\n",
       "    </tr>\n",
       "    <tr>\n",
       "      <th>Albania</th>\n",
       "      <td>ALB</td>\n",
       "      <td>Europe &amp; Central Asia</td>\n",
       "      <td>Upper middle income</td>\n",
       "      <td>IBRD</td>\n",
       "      <td>NaN</td>\n",
       "      <td>1.0</td>\n",
       "      <td>NaN</td>\n",
       "    </tr>\n",
       "  </tbody>\n",
       "</table>\n",
       "</div>"
      ],
      "text/plain": [
       "            Code                 Region         Income group Lending category  \\\n",
       "Economy                                                                         \n",
       "Afghanistan  AFG             South Asia           Low income              IDA   \n",
       "Albania      ALB  Europe & Central Asia  Upper middle income             IBRD   \n",
       "\n",
       "             HIPC  Data      missing_data  \n",
       "Economy                                    \n",
       "Afghanistan  HIPC   0.0  plgp, avg_prod_k  \n",
       "Albania       NaN   1.0               NaN  "
      ]
     },
     "execution_count": 5,
     "metadata": {},
     "output_type": "execute_result"
    }
   ],
   "source": [
    "have_nothave = pd.read_csv('have_and_have_nots.csv', index_col=0, squeeze=True, encoding=\"utf-8\")\n",
    "have_nothave = have_nothave.rename(index=any_name_to_wb_name) # This is a sweet one-line command to rename the index using a dictionary-like translation, in this case an_name_to_wb_name\n",
    "have_nothave.head(2)"
   ]
  },
  {
   "cell_type": "markdown",
   "metadata": {},
   "source": [
    "# Now obtain further indicators from locally saved csv files. See the Notebook pull_data_wb"
   ]
  },
  {
   "cell_type": "code",
   "execution_count": 6,
   "metadata": {
    "collapsed": false
   },
   "outputs": [
    {
     "data": {
      "text/html": [
       "<div>\n",
       "<table border=\"1\" class=\"dataframe\">\n",
       "  <thead>\n",
       "    <tr style=\"text-align: right;\">\n",
       "      <th></th>\n",
       "      <th>country</th>\n",
       "      <th>Income share of bootom 20% [SI.DST.FRST.20]</th>\n",
       "      <th>year</th>\n",
       "    </tr>\n",
       "  </thead>\n",
       "  <tbody>\n",
       "    <tr>\n",
       "      <th>0</th>\n",
       "      <td>Albania</td>\n",
       "      <td>0.0885</td>\n",
       "      <td>2012</td>\n",
       "    </tr>\n",
       "    <tr>\n",
       "      <th>1</th>\n",
       "      <td>Algeria</td>\n",
       "      <td>0.0696</td>\n",
       "      <td>1995</td>\n",
       "    </tr>\n",
       "    <tr>\n",
       "      <th>2</th>\n",
       "      <td>Angola</td>\n",
       "      <td>0.0543</td>\n",
       "      <td>2008</td>\n",
       "    </tr>\n",
       "  </tbody>\n",
       "</table>\n",
       "</div>"
      ],
      "text/plain": [
       "   country  Income share of bootom 20% [SI.DST.FRST.20]  year\n",
       "0  Albania                                       0.0885  2012\n",
       "1  Algeria                                       0.0696  1995\n",
       "2   Angola                                       0.0543  2008"
      ]
     },
     "execution_count": 6,
     "metadata": {},
     "output_type": "execute_result"
    }
   ],
   "source": [
    "wb_data_inc20 = pd.read_csv('wb_data_raw/WDI_SI.DST.FRST.20.csv', encoding='utf-8')\n",
    "wb_data_inc20.head(3)"
   ]
  },
  {
   "cell_type": "markdown",
   "metadata": {},
   "source": [
    "Concatenate, i.e. add, the new data to the existing data matrix"
   ]
  },
  {
   "cell_type": "code",
   "execution_count": 7,
   "metadata": {
    "collapsed": false
   },
   "outputs": [
    {
     "name": "stderr",
     "output_type": "stream",
     "text": [
      "/Users/steffen/anaconda/lib/python3.5/site-packages/pandas/indexes/api.py:71: RuntimeWarning: unorderable types: str() < int(), sort order is undefined for incomparable objects\n",
      "  result = result.union(other)\n"
     ]
    },
    {
     "data": {
      "text/html": [
       "<div>\n",
       "<table border=\"1\" class=\"dataframe\">\n",
       "  <thead>\n",
       "    <tr style=\"text-align: right;\">\n",
       "      <th></th>\n",
       "      <th>Code</th>\n",
       "      <th>Region</th>\n",
       "      <th>Income group</th>\n",
       "      <th>Lending category</th>\n",
       "      <th>HIPC</th>\n",
       "      <th>Data</th>\n",
       "      <th>missing_data</th>\n",
       "      <th>country</th>\n",
       "      <th>Income share of bootom 20% [SI.DST.FRST.20]</th>\n",
       "      <th>year</th>\n",
       "    </tr>\n",
       "  </thead>\n",
       "  <tbody>\n",
       "    <tr>\n",
       "      <th>Afghanistan</th>\n",
       "      <td>AFG</td>\n",
       "      <td>South Asia</td>\n",
       "      <td>Low income</td>\n",
       "      <td>IDA</td>\n",
       "      <td>HIPC</td>\n",
       "      <td>0.0</td>\n",
       "      <td>plgp, avg_prod_k</td>\n",
       "      <td>NaN</td>\n",
       "      <td>NaN</td>\n",
       "      <td>NaN</td>\n",
       "    </tr>\n",
       "    <tr>\n",
       "      <th>Albania</th>\n",
       "      <td>ALB</td>\n",
       "      <td>Europe &amp; Central Asia</td>\n",
       "      <td>Upper middle income</td>\n",
       "      <td>IBRD</td>\n",
       "      <td>NaN</td>\n",
       "      <td>1.0</td>\n",
       "      <td>NaN</td>\n",
       "      <td>NaN</td>\n",
       "      <td>NaN</td>\n",
       "      <td>NaN</td>\n",
       "    </tr>\n",
       "    <tr>\n",
       "      <th>Algeria</th>\n",
       "      <td>DZA</td>\n",
       "      <td>Middle East &amp; North Africa</td>\n",
       "      <td>Upper middle income</td>\n",
       "      <td>IBRD</td>\n",
       "      <td>NaN</td>\n",
       "      <td>0.0</td>\n",
       "      <td>share1, social_p, social_r, avg_prod_k, share1...</td>\n",
       "      <td>NaN</td>\n",
       "      <td>NaN</td>\n",
       "      <td>NaN</td>\n",
       "    </tr>\n",
       "    <tr>\n",
       "      <th>American Samoa</th>\n",
       "      <td>ASM</td>\n",
       "      <td>East Asia &amp; Pacific</td>\n",
       "      <td>Upper middle income</td>\n",
       "      <td>NaN</td>\n",
       "      <td>NaN</td>\n",
       "      <td>0.0</td>\n",
       "      <td>gdp_pc_pp, share1, plgp, unemp, axfin_p, axfin...</td>\n",
       "      <td>NaN</td>\n",
       "      <td>NaN</td>\n",
       "      <td>NaN</td>\n",
       "    </tr>\n",
       "    <tr>\n",
       "      <th>Andorra</th>\n",
       "      <td>ADO</td>\n",
       "      <td>..</td>\n",
       "      <td>High income: nonOECD</td>\n",
       "      <td>NaN</td>\n",
       "      <td>NaN</td>\n",
       "      <td>0.0</td>\n",
       "      <td>gdp_pc_pp, share1, plgp, unemp, axfin_p, axfin...</td>\n",
       "      <td>NaN</td>\n",
       "      <td>NaN</td>\n",
       "      <td>NaN</td>\n",
       "    </tr>\n",
       "    <tr>\n",
       "      <th>Angola</th>\n",
       "      <td>AGO</td>\n",
       "      <td>Sub-Saharan Africa</td>\n",
       "      <td>Upper middle income</td>\n",
       "      <td>IBRD</td>\n",
       "      <td>NaN</td>\n",
       "      <td>0.0</td>\n",
       "      <td>social_p, social_r</td>\n",
       "      <td>NaN</td>\n",
       "      <td>NaN</td>\n",
       "      <td>NaN</td>\n",
       "    </tr>\n",
       "    <tr>\n",
       "      <th>Antigua and Barbuda</th>\n",
       "      <td>ATG</td>\n",
       "      <td>..</td>\n",
       "      <td>High income: nonOECD</td>\n",
       "      <td>IBRD</td>\n",
       "      <td>NaN</td>\n",
       "      <td>0.0</td>\n",
       "      <td>share1, unemp, axfin_p, axfin_r, social_p, soc...</td>\n",
       "      <td>NaN</td>\n",
       "      <td>NaN</td>\n",
       "      <td>NaN</td>\n",
       "    </tr>\n",
       "    <tr>\n",
       "      <th>Argentina</th>\n",
       "      <td>ARG</td>\n",
       "      <td>Latin America &amp; Caribbean</td>\n",
       "      <td>Upper middle income</td>\n",
       "      <td>IBRD</td>\n",
       "      <td>NaN</td>\n",
       "      <td>1.0</td>\n",
       "      <td>NaN</td>\n",
       "      <td>NaN</td>\n",
       "      <td>NaN</td>\n",
       "      <td>NaN</td>\n",
       "    </tr>\n",
       "  </tbody>\n",
       "</table>\n",
       "</div>"
      ],
      "text/plain": [
       "                    Code                      Region          Income group  \\\n",
       "Afghanistan          AFG                  South Asia            Low income   \n",
       "Albania              ALB       Europe & Central Asia   Upper middle income   \n",
       "Algeria              DZA  Middle East & North Africa   Upper middle income   \n",
       "American Samoa       ASM         East Asia & Pacific   Upper middle income   \n",
       "Andorra              ADO                          ..  High income: nonOECD   \n",
       "Angola               AGO          Sub-Saharan Africa   Upper middle income   \n",
       "Antigua and Barbuda  ATG                          ..  High income: nonOECD   \n",
       "Argentina            ARG   Latin America & Caribbean   Upper middle income   \n",
       "\n",
       "                    Lending category  HIPC  Data  \\\n",
       "Afghanistan                      IDA  HIPC   0.0   \n",
       "Albania                         IBRD   NaN   1.0   \n",
       "Algeria                         IBRD   NaN   0.0   \n",
       "American Samoa                   NaN   NaN   0.0   \n",
       "Andorra                          NaN   NaN   0.0   \n",
       "Angola                          IBRD   NaN   0.0   \n",
       "Antigua and Barbuda             IBRD   NaN   0.0   \n",
       "Argentina                       IBRD   NaN   1.0   \n",
       "\n",
       "                                                          missing_data  \\\n",
       "Afghanistan                                           plgp, avg_prod_k   \n",
       "Albania                                                            NaN   \n",
       "Algeria              share1, social_p, social_r, avg_prod_k, share1...   \n",
       "American Samoa       gdp_pc_pp, share1, plgp, unemp, axfin_p, axfin...   \n",
       "Andorra              gdp_pc_pp, share1, plgp, unemp, axfin_p, axfin...   \n",
       "Angola                                              social_p, social_r   \n",
       "Antigua and Barbuda  share1, unemp, axfin_p, axfin_r, social_p, soc...   \n",
       "Argentina                                                          NaN   \n",
       "\n",
       "                    country  Income share of bootom 20% [SI.DST.FRST.20]  year  \n",
       "Afghanistan             NaN                                          NaN   NaN  \n",
       "Albania                 NaN                                          NaN   NaN  \n",
       "Algeria                 NaN                                          NaN   NaN  \n",
       "American Samoa          NaN                                          NaN   NaN  \n",
       "Andorra                 NaN                                          NaN   NaN  \n",
       "Angola                  NaN                                          NaN   NaN  \n",
       "Antigua and Barbuda     NaN                                          NaN   NaN  \n",
       "Argentina               NaN                                          NaN   NaN  "
      ]
     },
     "execution_count": 7,
     "metadata": {},
     "output_type": "execute_result"
    }
   ],
   "source": [
    "data_matrix = pd.concat([have_nothave, wb_data_inc20], axis=1)\n",
    "data_matrix.head(8)"
   ]
  },
  {
   "cell_type": "markdown",
   "metadata": {
    "collapsed": true
   },
   "source": [
    "## Now load finance access data from FINDEX (Global Financial Inclusion Database)"
   ]
  },
  {
   "cell_type": "code",
   "execution_count": null,
   "metadata": {
    "collapsed": false
   },
   "outputs": [],
   "source": [
    "wb_findex = pd.read_csv('wb_data_raw/FINDEX_selection.csv', index_col=0, encoding='utf-8')"
   ]
  },
  {
   "cell_type": "markdown",
   "metadata": {
    "collapsed": false
   },
   "source": [
    "Change the index to country"
   ]
  },
  {
   "cell_type": "code",
   "execution_count": null,
   "metadata": {
    "collapsed": false,
    "scrolled": false
   },
   "outputs": [],
   "source": [
    "wb_findex"
   ]
  },
  {
   "cell_type": "code",
   "execution_count": null,
   "metadata": {
    "collapsed": false
   },
   "outputs": [],
   "source": []
  },
  {
   "cell_type": "code",
   "execution_count": null,
   "metadata": {
    "collapsed": false
   },
   "outputs": [],
   "source": [
    "mrv(wb_findex)"
   ]
  },
  {
   "cell_type": "code",
   "execution_count": null,
   "metadata": {
    "collapsed": true
   },
   "outputs": [],
   "source": []
  },
  {
   "cell_type": "markdown",
   "metadata": {
    "collapsed": true
   },
   "source": [
    "### Export the list of data availability to Excel and csv"
   ]
  },
  {
   "cell_type": "code",
   "execution_count": null,
   "metadata": {
    "collapsed": false
   },
   "outputs": [],
   "source": [
    "data_matrix.to_excel(\"output/data_availability.xlsx\")\n",
    "data_matrix.to_csv(\"output/data_availability.csv\")"
   ]
  },
  {
   "cell_type": "markdown",
   "metadata": {
    "collapsed": true
   },
   "source": [
    "# Now select only IDA countries from data_matrix"
   ]
  },
  {
   "cell_type": "markdown",
   "metadata": {},
   "source": [
    "Choose the IDA countries, which means dropping the non-IDA countries.\n",
    "The cell below chooses all IDA countries, Blend countries and India and puts it into a new df called ida_countries"
   ]
  },
  {
   "cell_type": "code",
   "execution_count": null,
   "metadata": {
    "collapsed": false
   },
   "outputs": [],
   "source": [
    "ida_countries = data_matrix.loc[data_matrix['Lending category'] == \"Blend\"]\n",
    "ida_countries = ida_countries.append(data_matrix.loc[data_matrix['Lending category'] == \"IDA\"])\n",
    "ida_countries = ida_countries.append(data_matrix.loc['India'])\n",
    "ida_countries = ida_countries.sort_index()"
   ]
  },
  {
   "cell_type": "markdown",
   "metadata": {},
   "source": [
    "Drop some of the columns which are not necessary for the IDA comparison"
   ]
  },
  {
   "cell_type": "code",
   "execution_count": null,
   "metadata": {
    "collapsed": false
   },
   "outputs": [],
   "source": [
    "ida_countries.head(1)"
   ]
  },
  {
   "cell_type": "code",
   "execution_count": null,
   "metadata": {
    "collapsed": false
   },
   "outputs": [],
   "source": [
    "ida_countries.drop(['Income group', 'missing_data', 'Data'], axis=1, inplace=True)"
   ]
  },
  {
   "cell_type": "code",
   "execution_count": null,
   "metadata": {
    "collapsed": false
   },
   "outputs": [],
   "source": [
    "ida_countries.head(1)"
   ]
  },
  {
   "cell_type": "code",
   "execution_count": null,
   "metadata": {
    "collapsed": true
   },
   "outputs": [],
   "source": []
  },
  {
   "cell_type": "markdown",
   "metadata": {
    "collapsed": true
   },
   "source": [
    "Save the ida_countries file"
   ]
  },
  {
   "cell_type": "markdown",
   "metadata": {
    "collapsed": true
   },
   "source": [
    "Export the list of data availability to Excel and csv"
   ]
  },
  {
   "cell_type": "code",
   "execution_count": null,
   "metadata": {
    "collapsed": false
   },
   "outputs": [],
   "source": [
    "ida_countries.to_excel(\"output/IDA_countries_data_availability.xlsx\")\n",
    "ida_countries.to_csv(\"output/IDA_countries_data_availability.csv\")"
   ]
  },
  {
   "cell_type": "code",
   "execution_count": null,
   "metadata": {
    "collapsed": true
   },
   "outputs": [],
   "source": []
  }
 ],
 "metadata": {
  "kernelspec": {
   "display_name": "Python 3",
   "language": "python",
   "name": "python3"
  },
  "language_info": {
   "codemirror_mode": {
    "name": "ipython",
    "version": 3
   },
   "file_extension": ".py",
   "mimetype": "text/x-python",
   "name": "python",
   "nbconvert_exporter": "python",
   "pygments_lexer": "ipython3",
   "version": "3.5.1"
  }
 },
 "nbformat": 4,
 "nbformat_minor": 0
}
